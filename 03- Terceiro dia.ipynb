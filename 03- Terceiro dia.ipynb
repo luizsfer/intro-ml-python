{
 "cells": [
  {
   "cell_type": "markdown",
   "metadata": {},
   "source": [
    "# Introdução ao aprendizado de máquina utilizando Python"
   ]
  },
  {
   "cell_type": "markdown",
   "metadata": {},
   "source": [
    "#### Professor: Luiz Antonio de Sousa Ferreira"
   ]
  },
  {
   "cell_type": "markdown",
   "metadata": {},
   "source": [
    "#### Contato: luiz.ferreira@outlook.com | [@luizsferreira](http://instagram.com/luizsferreira) (IG)"
   ]
  },
  {
   "cell_type": "markdown",
   "metadata": {},
   "source": [
    "Acesso: [bit.ly/pucpcaldas](http://bit.ly/pucpcaldas)"
   ]
  },
  {
   "cell_type": "markdown",
   "metadata": {},
   "source": [
    "__________"
   ]
  },
  {
   "cell_type": "markdown",
   "metadata": {},
   "source": [
    "## Trabalhando com dados da Web"
   ]
  },
  {
   "cell_type": "markdown",
   "metadata": {},
   "source": [
    "### Você conhece o Twitter?"
   ]
  },
  {
   "cell_type": "markdown",
   "metadata": {},
   "source": [
    "Twitter é uma rede social e um servidor para microblogging, que permite aos usuários enviar e receber atualizações pessoais de outros contatos (em textos de até 280 caracteres, conhecidos como \"tweets\"), por meio do website do serviço, por SMS e por softwares específicos de gerenciamento.\n",
    "\n",
    "O twitter foi criado em Março de 2006 por Jack Dorsey, Evan Williams, Biz Stone e Noah Glass e foi lançado em Julho de 2006 nos EUA. A ideia inicial dos fundadores era que o Twitter fosse uma espécie de \"SMS da internet\" com a limitação de caracteres de uma mensagem de celular. Inicialmente chamada Twttr (sem vogais), o nome da rede social, em inglês, significa gorjear. A ideia é que o usuário da rede social está \"piando\" pela internet. Desde sua criação, o Twitter ganhou extensa notabilidade e popularidade por todo mundo. Jack Dorsey é o atual CEO da empresa."
   ]
  },
  {
   "cell_type": "markdown",
   "metadata": {},
   "source": [
    "![](https://camo.githubusercontent.com/e1a4dbb988314096536245304f5bdc4bce5fac87/68747470733a2f2f696d616765732d6e612e73736c2d696d616765732d616d617a6f6e2e636f6d2f696d616765732f492f33314b6c7554356e426b4c2e706e67)"
   ]
  },
  {
   "cell_type": "markdown",
   "metadata": {},
   "source": [
    "### Twitter e o Bootstrap\n",
    "\n",
    "Bootstrap é um projeto de código aberto originalmente desenvolvido para o site Twitter, chamado de Twitter Blueprint, desenvolvido por Mark Otto e Jacó Thornton como um instrumento para incentivar a consistência através de ferramentas internas.\n",
    "\n",
    "Antes de Bootstrap, várias bibliotecas foram utilizados para o desenvolvimento de interfaces, gerando inconsistências e um elevado peso de manutenção. De acordo com o desenvolvedor Mark Otto:\n",
    "\n",
    "\"Um grupo super pequeno de desenvolvedores e eu nos reunimos para projetar e construir uma nova ferramenta interna e vi uma oportunidade de fazer algo mais. Através desse processo, nós nos vimos construindo algo muito mais substancial do que outra ferramenta interna. Meses depois, terminamos com uma versão inicial do Bootstrap como forma de documentar e compartilhar padrões comuns de design e ativos dentro da empresa \"\n",
    "\n",
    "Depois de alguns meses de desenvolvimento por um pequeno grupo, muitos desenvolvedores no Twitter começaram a contribuir com o projeto, como parte da Hack Week. Ele foi renomeado como Twitter Blueprint to Bootstrap, e lançado como um projeto de código aberto em 19 de agosto de 2011. Ele continuou a ser mantida por Mark Otto, Jacob Thornton, e um pequeno grupo de desenvolvedores, bem como uma grande comunidade de colaboradores."
   ]
  },
  {
   "cell_type": "markdown",
   "metadata": {},
   "source": [
    "### Nesta aula iremos:\n",
    "\n",
    "- Extrair os dados do Twitter usando tweepy e aprender como lidar com isso usando pandas.\n",
    "- Traçar algumas estatísticas básicas e visualizações com numpy, matplotlib e seaborn.\n",
    "- Fazer uma análise de sentimentos de tweets extraídos (Trump) usando textblob.\n",
    "\n",
    "#### Para executar o processo em casa, precisaremos de:\n",
    "\n",
    "- Python 2.7 ou 3.6\n",
    "- Numpy: Este é o pacote fundamental para computação científica com Python. Além de seus usos científicos óbvios, o NumPy também pode ser usado como um contêiner multidimensional eficiente de dados genéricos.\n",
    "- Pandas: Esta é uma biblioteca de código aberto que fornece estruturas de dados de alto desempenho e fáceis de usar, além de ferramentas de análise de dados.\n",
    "- Tweepy: Esta é uma biblioteca Python fácil de usar para acessar a API do Twitter.\n",
    "- Matplotlib: Esta é uma biblioteca de plotagem 2D em Python que produz números de qualidade de publicação em uma variedade de formatos impressos e ambientes interativos entre plataformas.\n",
    "- Seaborn : Esta é uma biblioteca de visualização Python baseada no matplotlib. Ele fornece uma interface de alto nível para desenhar gráficos estatísticos atraentes.\n",
    "- Textblob : Esta é uma biblioteca Python para processamento de dados textuais. Ele fornece uma API simples para mergulhar em tarefas comuns de processamento de linguagem natural (NLP).\n",
    "\n",
    "Todos os pacotes podem ser instalados através do comando \"pip\"."
   ]
  },
  {
   "cell_type": "markdown",
   "metadata": {},
   "source": [
    "## Extraindo informações do Twitter (tweepy + pandas)\n",
    "\n",
    "### Importação de bibliotecas\n",
    "\n",
    "Essa parte é simples, devemos importar as bilbiotecas que iremos utilizar, podemos dividir essas importações em duas partes: as que comandam o processamento dos dados e outra para trabalhar a visualização dos mesmos."
   ]
  },
  {
   "cell_type": "code",
   "execution_count": 1,
   "metadata": {},
   "outputs": [],
   "source": [
    "# Importação Geral:\n",
    "import tweepy           # Para consumir a API do Twitter\n",
    "import pandas as pd     # Para manipular dados\n",
    "import numpy as np      # Para computação de números\n",
    "\n",
    "# Para plotagem e visualização:\n",
    "from IPython.display import display\n",
    "import matplotlib.pyplot as plt\n",
    "import seaborn as sns"
   ]
  },
  {
   "cell_type": "markdown",
   "metadata": {},
   "source": [
    "### Criando um aplicativo do Twitter\n",
    "\n",
    "O Twitter exige um cadastro com especificações do uso de sua API, para uma futura análise e proteção de seus dados, por isso, antes de iniciar a aplicação, deve-se solicitar uma acesso de desenvolvedor ao Twitter para poder realizar a criação de um novo aplicativo.\n",
    "\n",
    "Para isso devemos acessar https://apps.twitter.com. Caso necessite de uma ajuda para a criação dessa conta, recomenda-se seguir o tutorial oficial, disponível [nesse link](https://developer.twitter.com/en/docs/ads/general/guides/getting-started.html).\n",
    "\n",
    "A partir desse aplicativo, o Twitter lhe fornnecerá informações para acessar os seus dados, são elas:\n",
    "\n",
    "- Chave do Consumidor (Chave da API)\n",
    "- Segredo do Consumidor (Segredo da API)\n",
    "- Token de Acesso\n",
    "- Segredo do Token de Acesso\n",
    "\n",
    "Vamos importar um arquivo apenas com as chaves, ele deverá se chamar de credentials:"
   ]
  },
  {
   "cell_type": "code",
   "execution_count": null,
   "metadata": {},
   "outputs": [],
   "source": [
    "# Chaves de acesso à API do Twitter para @user\n",
    "\n",
    "# Consumir:\n",
    "CONSUMER_KEY    = ''\n",
    "CONSUMER_SECRET = ''\n",
    "\n",
    "# Acesso:\n",
    "ACCESS_TOKEN  = ''\n",
    "ACCESS_SECRET = ''"
   ]
  },
  {
   "cell_type": "markdown",
   "metadata": {},
   "source": [
    "Com essas informações podemos consumir a API do Twitter, para isso, criaremos uma função para permitira a autenticação das chaves, vamos adicionar o código abaixo em outra célula de código e executá-la.\n",
    "\n",
    "### Célula de código\n",
    "\n",
    "Essa característica permite que executemos trechos específicos de um script conforme nossa necessidade, evitando acesso desnecessário a bancos de dados e arquivos, diminuindo o custo computacional da tarefa. No Pycharm devemos instalar um plugin chamado PyCharm cell mode, que permitirá executar trechos de códigos que estiverem entre duplas de #, como, por exemplo:\n",
    "\n",
    "#\n",
    "\n",
    "...\n",
    "\n",
    "#"
   ]
  },
  {
   "cell_type": "code",
   "execution_count": 2,
   "metadata": {},
   "outputs": [],
   "source": [
    "# Vamos importar nossas chaves:\n",
    "from credentials import *    # Isso irá permitir o uso das chaves\n",
    "\n",
    "# API's setup:\n",
    "def twitter_setup():\n",
    "    \"\"\"\n",
    "    Função necessároa para configurar a API do Twitter para o acesso através de nossas chaves de segurança.\n",
    "    \"\"\"\n",
    "    # Autenticação e acesso utilizando chaves:\n",
    "    auth = tweepy.OAuthHandler(CONSUMER_KEY, CONSUMER_SECRET)\n",
    "    auth.set_access_token(ACCESS_TOKEN, ACCESS_SECRET)\n",
    "\n",
    "    # Retorna a API com os dados:\n",
    "    api = tweepy.API(auth)\n",
    "    return api"
   ]
  },
  {
   "cell_type": "markdown",
   "metadata": {},
   "source": [
    "### Extração de tweets\n",
    "\n",
    "Agora que criamos a função para configurar a API do Twitter, podemos usar essa função para criar um objeto \"extractor\". Para isso, vamos usar a função do Tweepy extractor.user_timeline(screen_name, count) para extrair do usuário (screen_name) a quantidade de (count) tweets.\n",
    "\n",
    "Podemos trabalhar com qualquer perfil, mas, por curiosidade, vamos escolher o perfil do @DonaldTrump como o usuário para extração de dados para análise.\n",
    "\n",
    "Portanto, para extrairmos os dados vamos utilizar:"
   ]
  },
  {
   "cell_type": "code",
   "execution_count": 89,
   "metadata": {},
   "outputs": [
    {
     "name": "stdout",
     "output_type": "stream",
     "text": [
      "Número de tweets extraídos: 200.\n",
      "\n",
      "Últimos 5 tweets:\n",
      "\n",
      "Obrigado sempre pela consideração @OdeCarvalho . Você faz parte desta mudança. https://t.co/Pvse6SkHHc\n",
      "\n",
      "Link no youtube da live feita no facebook: Novas informações e mentiras que estão sendo difundidas a meu respeito. https://t.co/KHVgWnfrGc\n",
      "\n",
      "Logo mais, às 20:00, quarta-feira,(24/10/2018), faremos nova live no facebook com novas informações e mentiras que… https://t.co/hnoVDgSEYA\n",
      "\n",
      "A melhor forma de mostrar respeito às pessoas é tratando-as de igual pra igual, valorizando-as por seu caráter e co… https://t.co/WMnsWDMmaW\n",
      "\n",
      "Há um complô espalhando fakenews descaradas e descontextualizadas contra mim oriundas de parlamentares e partidos d… https://t.co/1Vfcz3yh5Y\n",
      "\n"
     ]
    }
   ],
   "source": [
    "# Vamos criar um objeto extractor\n",
    "extractor = twitter_setup()\n",
    "\n",
    "# Vamos criar uma lista de tweets:\n",
    "tweets = extractor.user_timeline(screen_name=\"JairBolsonaro\", count=200)\n",
    "print(\"Número de tweets extraídos: {}.\\n\".format(len(tweets)))\n",
    "\n",
    "# Vamos imprimir os últimos 5 tweets:\n",
    "print(\"Últimos 5 tweets:\\n\")\n",
    "for tweet in tweets[:5]:\n",
    "    print(tweet.text)\n",
    "    print()"
   ]
  },
  {
   "cell_type": "markdown",
   "metadata": {},
   "source": [
    "Com isso teremos uma saída que contem o número de tweets extraídos e uma lista com os últimos 5 tweets para confirmação das informações extraídas. Temos então um extrator e uma lista chamada tweets com todos os dados para nossa análise."
   ]
  },
  {
   "cell_type": "markdown",
   "metadata": {},
   "source": [
    "### Criando um DataFrame\n",
    "\n",
    "Para manipularmos os dados dentro de tweets devemos construir um DataFrame pandas, esse DataFrame será responsável por deixar nossas atividades muito mais simples.\n",
    "\n",
    "A função display do IPython plota uma saída de maneira amigável e o método head de um dataframe nos permite recuperar os primeiros elementos.\n",
    "\n",
    "Então, usando a compeensão da lista do Python:"
   ]
  },
  {
   "cell_type": "code",
   "execution_count": 93,
   "metadata": {},
   "outputs": [
    {
     "data": {
      "text/html": [
       "<div>\n",
       "<style scoped>\n",
       "    .dataframe tbody tr th:only-of-type {\n",
       "        vertical-align: middle;\n",
       "    }\n",
       "\n",
       "    .dataframe tbody tr th {\n",
       "        vertical-align: top;\n",
       "    }\n",
       "\n",
       "    .dataframe thead th {\n",
       "        text-align: right;\n",
       "    }\n",
       "</style>\n",
       "<table border=\"1\" class=\"dataframe\">\n",
       "  <thead>\n",
       "    <tr style=\"text-align: right;\">\n",
       "      <th></th>\n",
       "      <th>Tweets</th>\n",
       "    </tr>\n",
       "  </thead>\n",
       "  <tbody>\n",
       "    <tr>\n",
       "      <th>0</th>\n",
       "      <td>Obrigado sempre pela consideração @OdeCarvalho...</td>\n",
       "    </tr>\n",
       "    <tr>\n",
       "      <th>1</th>\n",
       "      <td>Link no youtube da live feita no facebook: Nov...</td>\n",
       "    </tr>\n",
       "    <tr>\n",
       "      <th>2</th>\n",
       "      <td>Logo mais, às 20:00, quarta-feira,(24/10/2018)...</td>\n",
       "    </tr>\n",
       "    <tr>\n",
       "      <th>3</th>\n",
       "      <td>A melhor forma de mostrar respeito às pessoas ...</td>\n",
       "    </tr>\n",
       "    <tr>\n",
       "      <th>4</th>\n",
       "      <td>Há um complô espalhando fakenews descaradas e ...</td>\n",
       "    </tr>\n",
       "    <tr>\n",
       "      <th>5</th>\n",
       "      <td>Mais uma mentira descarada do fantoche de corr...</td>\n",
       "    </tr>\n",
       "    <tr>\n",
       "      <th>6</th>\n",
       "      <td>RT @cor0te: As definições de ameaça à democrac...</td>\n",
       "    </tr>\n",
       "    <tr>\n",
       "      <th>7</th>\n",
       "      <td>Esperamos uma retratação de todos os que, mesm...</td>\n",
       "    </tr>\n",
       "    <tr>\n",
       "      <th>8</th>\n",
       "      <td>Concordo com o Mano Brown! 👍🏻 https://t.co/crI...</td>\n",
       "    </tr>\n",
       "    <tr>\n",
       "      <th>9</th>\n",
       "      <td>Segue a fonte: https://t.co/wNF6hCAvCq</td>\n",
       "    </tr>\n",
       "  </tbody>\n",
       "</table>\n",
       "</div>"
      ],
      "text/plain": [
       "                                              Tweets\n",
       "0  Obrigado sempre pela consideração @OdeCarvalho...\n",
       "1  Link no youtube da live feita no facebook: Nov...\n",
       "2  Logo mais, às 20:00, quarta-feira,(24/10/2018)...\n",
       "3  A melhor forma de mostrar respeito às pessoas ...\n",
       "4  Há um complô espalhando fakenews descaradas e ...\n",
       "5  Mais uma mentira descarada do fantoche de corr...\n",
       "6  RT @cor0te: As definições de ameaça à democrac...\n",
       "7  Esperamos uma retratação de todos os que, mesm...\n",
       "8  Concordo com o Mano Brown! 👍🏻 https://t.co/crI...\n",
       "9             Segue a fonte: https://t.co/wNF6hCAvCq"
      ]
     },
     "metadata": {},
     "output_type": "display_data"
    }
   ],
   "source": [
    "# Criando o DataFrame:\n",
    "data = pd.DataFrame(data=[tweet.text for tweet in tweets], columns=['Tweets'])\n",
    "\n",
    "# Exibindo os 10 primeiros elementos do DataFrame\n",
    "display(data.head(10))"
   ]
  },
  {
   "cell_type": "markdown",
   "metadata": {},
   "source": [
    "Podemos ver os métodos disponibilizados para cada tweet através do Tweepy:"
   ]
  },
  {
   "cell_type": "code",
   "execution_count": 94,
   "metadata": {},
   "outputs": [
    {
     "name": "stdout",
     "output_type": "stream",
     "text": [
      "['__class__', '__delattr__', '__dict__', '__dir__', '__doc__', '__eq__', '__format__', '__ge__', '__getattribute__', '__getstate__', '__gt__', '__hash__', '__init__', '__init_subclass__', '__le__', '__lt__', '__module__', '__ne__', '__new__', '__reduce__', '__reduce_ex__', '__repr__', '__setattr__', '__sizeof__', '__str__', '__subclasshook__', '__weakref__', '_api', '_json', 'author', 'contributors', 'coordinates', 'created_at', 'destroy', 'entities', 'extended_entities', 'favorite', 'favorite_count', 'favorited', 'geo', 'id', 'id_str', 'in_reply_to_screen_name', 'in_reply_to_status_id', 'in_reply_to_status_id_str', 'in_reply_to_user_id', 'in_reply_to_user_id_str', 'is_quote_status', 'lang', 'parse', 'parse_list', 'place', 'possibly_sensitive', 'retweet', 'retweet_count', 'retweeted', 'retweets', 'source', 'source_url', 'text', 'truncated', 'user']\n"
     ]
    }
   ],
   "source": [
    "# Métodos internos de um único objeto tweet:\n",
    "print(dir(tweets[0]))"
   ]
  },
  {
   "cell_type": "markdown",
   "metadata": {},
   "source": [
    "A parte mais interessante é a quantidade de metadados contidos em um único tweet. Se quisermos obter dados como a data de criação ou a origem da criação, podemos acessar as informações através desses atributos."
   ]
  },
  {
   "cell_type": "code",
   "execution_count": 95,
   "metadata": {},
   "outputs": [
    {
     "name": "stdout",
     "output_type": "stream",
     "text": [
      "1055255347357720576\n",
      "2018-10-25 00:30:55\n",
      "Twitter for iPhone\n",
      "7051\n",
      "1690\n",
      "None\n",
      "None\n",
      "{'hashtags': [], 'symbols': [], 'user_mentions': [{'screen_name': 'OdeCarvalho', 'name': 'Olavo de Carvalho', 'id': 46822091, 'id_str': '46822091', 'indices': [34, 46]}], 'urls': [], 'media': [{'id': 1055255271956758529, 'id_str': '1055255271956758529', 'indices': [79, 102], 'media_url': 'http://pbs.twimg.com/ext_tw_video_thumb/1055255271956758529/pu/img/KzNp5XFEm-s5BT0R.jpg', 'media_url_https': 'https://pbs.twimg.com/ext_tw_video_thumb/1055255271956758529/pu/img/KzNp5XFEm-s5BT0R.jpg', 'url': 'https://t.co/Pvse6SkHHc', 'display_url': 'pic.twitter.com/Pvse6SkHHc', 'expanded_url': 'https://twitter.com/jairbolsonaro/status/1055255347357720576/video/1', 'type': 'photo', 'sizes': {'thumb': {'w': 150, 'h': 150, 'resize': 'crop'}, 'medium': {'w': 636, 'h': 360, 'resize': 'fit'}, 'large': {'w': 636, 'h': 360, 'resize': 'fit'}, 'small': {'w': 636, 'h': 360, 'resize': 'fit'}}}]}\n"
     ]
    }
   ],
   "source": [
    "# Imprimindo informações do primeiro tweet coletado:\n",
    "print(tweets[0].id)\n",
    "print(tweets[0].created_at)\n",
    "print(tweets[0].source)\n",
    "print(tweets[0].favorite_count)\n",
    "print(tweets[0].retweet_count)\n",
    "print(tweets[0].geo)\n",
    "print(tweets[0].coordinates)\n",
    "print(tweets[0].entities)"
   ]
  },
  {
   "cell_type": "markdown",
   "metadata": {},
   "source": [
    "Agora podemos solicitar os dados relevantes e adicioná-los ao nosso dataframe.\n",
    "\n",
    "### Adicionando informações relevantes ao nosso DataFrame\n",
    "\n",
    "Como vimos, podemos obter muitos dados de um único tweet. Mas nem todos esses dados são úteis para todas as situações. No nosso caso, vamos adicionar alguns dados ao nosso dataframe, para isso, usaremos a compreensão da lista Pythons e uma nova coluna será adicionada ao dataframe simplesmente adicionando o nome do conteúdo entre colchetes e atribuindo o conteúdo. O código vai se parecer com:"
   ]
  },
  {
   "cell_type": "code",
   "execution_count": 96,
   "metadata": {},
   "outputs": [],
   "source": [
    "# Adicionando dados relevantes ao DataFrame\n",
    "data['len']  = np.array([len(tweet.text) for tweet in tweets])\n",
    "data['ID']   = np.array([tweet.id for tweet in tweets])\n",
    "data['Date'] = np.array([tweet.created_at for tweet in tweets])\n",
    "data['Source'] = np.array([tweet.source for tweet in tweets])\n",
    "data['Likes']  = np.array([tweet.favorite_count for tweet in tweets])\n",
    "data['RTs']    = np.array([tweet.retweet_count for tweet in tweets])"
   ]
  },
  {
   "cell_type": "markdown",
   "metadata": {},
   "source": [
    "E para exibir novamente as informações coletadas basta invocar a função display:"
   ]
  },
  {
   "cell_type": "code",
   "execution_count": 97,
   "metadata": {},
   "outputs": [
    {
     "data": {
      "text/html": [
       "<div>\n",
       "<style scoped>\n",
       "    .dataframe tbody tr th:only-of-type {\n",
       "        vertical-align: middle;\n",
       "    }\n",
       "\n",
       "    .dataframe tbody tr th {\n",
       "        vertical-align: top;\n",
       "    }\n",
       "\n",
       "    .dataframe thead th {\n",
       "        text-align: right;\n",
       "    }\n",
       "</style>\n",
       "<table border=\"1\" class=\"dataframe\">\n",
       "  <thead>\n",
       "    <tr style=\"text-align: right;\">\n",
       "      <th></th>\n",
       "      <th>Tweets</th>\n",
       "      <th>len</th>\n",
       "      <th>ID</th>\n",
       "      <th>Date</th>\n",
       "      <th>Source</th>\n",
       "      <th>Likes</th>\n",
       "      <th>RTs</th>\n",
       "    </tr>\n",
       "  </thead>\n",
       "  <tbody>\n",
       "    <tr>\n",
       "      <th>0</th>\n",
       "      <td>Obrigado sempre pela consideração @OdeCarvalho...</td>\n",
       "      <td>102</td>\n",
       "      <td>1055255347357720576</td>\n",
       "      <td>2018-10-25 00:30:55</td>\n",
       "      <td>Twitter for iPhone</td>\n",
       "      <td>7051</td>\n",
       "      <td>1690</td>\n",
       "    </tr>\n",
       "    <tr>\n",
       "      <th>1</th>\n",
       "      <td>Link no youtube da live feita no facebook: Nov...</td>\n",
       "      <td>138</td>\n",
       "      <td>1055247760092553221</td>\n",
       "      <td>2018-10-25 00:00:46</td>\n",
       "      <td>Twitter for iPhone</td>\n",
       "      <td>6186</td>\n",
       "      <td>1853</td>\n",
       "    </tr>\n",
       "    <tr>\n",
       "      <th>2</th>\n",
       "      <td>Logo mais, às 20:00, quarta-feira,(24/10/2018)...</td>\n",
       "      <td>139</td>\n",
       "      <td>1055215019133202432</td>\n",
       "      <td>2018-10-24 21:50:40</td>\n",
       "      <td>Twitter for iPhone</td>\n",
       "      <td>16661</td>\n",
       "      <td>4231</td>\n",
       "    </tr>\n",
       "    <tr>\n",
       "      <th>3</th>\n",
       "      <td>A melhor forma de mostrar respeito às pessoas ...</td>\n",
       "      <td>140</td>\n",
       "      <td>1055210728653766656</td>\n",
       "      <td>2018-10-24 21:33:37</td>\n",
       "      <td>Twitter for iPhone</td>\n",
       "      <td>32164</td>\n",
       "      <td>8960</td>\n",
       "    </tr>\n",
       "    <tr>\n",
       "      <th>4</th>\n",
       "      <td>Há um complô espalhando fakenews descaradas e ...</td>\n",
       "      <td>140</td>\n",
       "      <td>1055192032032026627</td>\n",
       "      <td>2018-10-24 20:19:19</td>\n",
       "      <td>Twitter for iPhone</td>\n",
       "      <td>20804</td>\n",
       "      <td>6173</td>\n",
       "    </tr>\n",
       "    <tr>\n",
       "      <th>5</th>\n",
       "      <td>Mais uma mentira descarada do fantoche de corr...</td>\n",
       "      <td>81</td>\n",
       "      <td>1055166110428024832</td>\n",
       "      <td>2018-10-24 18:36:19</td>\n",
       "      <td>Twitter for iPhone</td>\n",
       "      <td>20228</td>\n",
       "      <td>6296</td>\n",
       "    </tr>\n",
       "    <tr>\n",
       "      <th>6</th>\n",
       "      <td>RT @cor0te: As definições de ameaça à democrac...</td>\n",
       "      <td>91</td>\n",
       "      <td>1055163290349981696</td>\n",
       "      <td>2018-10-24 18:25:07</td>\n",
       "      <td>Twitter for iPhone</td>\n",
       "      <td>0</td>\n",
       "      <td>4389</td>\n",
       "    </tr>\n",
       "    <tr>\n",
       "      <th>7</th>\n",
       "      <td>Esperamos uma retratação de todos os que, mesm...</td>\n",
       "      <td>140</td>\n",
       "      <td>1055154125128826881</td>\n",
       "      <td>2018-10-24 17:48:41</td>\n",
       "      <td>Twitter for iPhone</td>\n",
       "      <td>43836</td>\n",
       "      <td>12233</td>\n",
       "    </tr>\n",
       "    <tr>\n",
       "      <th>8</th>\n",
       "      <td>Concordo com o Mano Brown! 👍🏻 https://t.co/crI...</td>\n",
       "      <td>53</td>\n",
       "      <td>1055131515674337280</td>\n",
       "      <td>2018-10-24 16:18:51</td>\n",
       "      <td>Twitter for iPhone</td>\n",
       "      <td>48223</td>\n",
       "      <td>10967</td>\n",
       "    </tr>\n",
       "    <tr>\n",
       "      <th>9</th>\n",
       "      <td>Segue a fonte: https://t.co/wNF6hCAvCq</td>\n",
       "      <td>38</td>\n",
       "      <td>1055109376304922625</td>\n",
       "      <td>2018-10-24 14:50:52</td>\n",
       "      <td>Twitter for iPhone</td>\n",
       "      <td>11598</td>\n",
       "      <td>2873</td>\n",
       "    </tr>\n",
       "  </tbody>\n",
       "</table>\n",
       "</div>"
      ],
      "text/plain": [
       "                                              Tweets  len  \\\n",
       "0  Obrigado sempre pela consideração @OdeCarvalho...  102   \n",
       "1  Link no youtube da live feita no facebook: Nov...  138   \n",
       "2  Logo mais, às 20:00, quarta-feira,(24/10/2018)...  139   \n",
       "3  A melhor forma de mostrar respeito às pessoas ...  140   \n",
       "4  Há um complô espalhando fakenews descaradas e ...  140   \n",
       "5  Mais uma mentira descarada do fantoche de corr...   81   \n",
       "6  RT @cor0te: As definições de ameaça à democrac...   91   \n",
       "7  Esperamos uma retratação de todos os que, mesm...  140   \n",
       "8  Concordo com o Mano Brown! 👍🏻 https://t.co/crI...   53   \n",
       "9             Segue a fonte: https://t.co/wNF6hCAvCq   38   \n",
       "\n",
       "                    ID                Date              Source  Likes    RTs  \n",
       "0  1055255347357720576 2018-10-25 00:30:55  Twitter for iPhone   7051   1690  \n",
       "1  1055247760092553221 2018-10-25 00:00:46  Twitter for iPhone   6186   1853  \n",
       "2  1055215019133202432 2018-10-24 21:50:40  Twitter for iPhone  16661   4231  \n",
       "3  1055210728653766656 2018-10-24 21:33:37  Twitter for iPhone  32164   8960  \n",
       "4  1055192032032026627 2018-10-24 20:19:19  Twitter for iPhone  20804   6173  \n",
       "5  1055166110428024832 2018-10-24 18:36:19  Twitter for iPhone  20228   6296  \n",
       "6  1055163290349981696 2018-10-24 18:25:07  Twitter for iPhone      0   4389  \n",
       "7  1055154125128826881 2018-10-24 17:48:41  Twitter for iPhone  43836  12233  \n",
       "8  1055131515674337280 2018-10-24 16:18:51  Twitter for iPhone  48223  10967  \n",
       "9  1055109376304922625 2018-10-24 14:50:52  Twitter for iPhone  11598   2873  "
      ]
     },
     "metadata": {},
     "output_type": "display_data"
    }
   ],
   "source": [
    "# Exibindo os 10 primeiros elementos do DataFrame:\n",
    "display(data.head(10))"
   ]
  },
  {
   "cell_type": "markdown",
   "metadata": {},
   "source": [
    "Agora que extraímos e temos os dados de uma maneira ordenada e fácil de manusear, estamos prontos para fazer um pouco mais de manipulação para visualizar alguns gráficos e coletar alguns dados estatísticos. A primeira parte está concluída."
   ]
  },
  {
   "cell_type": "markdown",
   "metadata": {},
   "source": [
    "### Visualização e estatísticas básicas\n",
    "#### Médias e popularidade\n",
    "\n",
    "Primeiro queremos calcular alguns dados estatísticos básicos, como a média do comprimento dos caracteres de todos os tweets, o tweet com mais likes e retweets, etc.\n",
    "\n",
    "Para obter a média, usando NumPy:"
   ]
  },
  {
   "cell_type": "code",
   "execution_count": 98,
   "metadata": {},
   "outputs": [
    {
     "name": "stdout",
     "output_type": "stream",
     "text": [
      "Tamanho médio dos tweets: 108.505\n"
     ]
    }
   ],
   "source": [
    "# Extraindo a média dos tamanhos:\n",
    "mean = np.mean(data['len'])\n",
    "\n",
    "print(\"Tamanho médio dos tweets: {}\".format(mean))"
   ]
  },
  {
   "cell_type": "markdown",
   "metadata": {},
   "source": [
    "Para extrair mais dados, usaremos algumas funcionalidade do pandas:"
   ]
  },
  {
   "cell_type": "code",
   "execution_count": 99,
   "metadata": {},
   "outputs": [
    {
     "name": "stdout",
     "output_type": "stream",
     "text": [
      "O tweet com mais likes é: \n",
      "Mudou as cores do partido, escondeu o chefe presidiário, escondeu o apoio à ditadura venezuelana, tentou abortar o… https://t.co/VpvXEi0AEJ\n",
      "Número de likes: 82221\n",
      "139 caracteres.\n",
      "\n",
      "O tweet com mais retweets é: \n",
      "Mudou as cores do partido, escondeu o chefe presidiário, escondeu o apoio à ditadura venezuelana, tentou abortar o… https://t.co/VpvXEi0AEJ\n",
      "Número de retweets: 20904\n",
      "139 caracteres.\n",
      "\n"
     ]
    }
   ],
   "source": [
    "# Extraindo o tweet com mais Likes e Retweets:\n",
    "\n",
    "fav_max = np.max(data['Likes'])\n",
    "rt_max  = np.max(data['RTs'])\n",
    "\n",
    "fav = data[data.Likes == fav_max].index[0]\n",
    "rt  = data[data.RTs == rt_max].index[0]\n",
    "\n",
    "# Max FAVs:\n",
    "print(\"O tweet com mais likes é: \\n{}\".format(data['Tweets'][fav]))\n",
    "print(\"Número de likes: {}\".format(fav_max))\n",
    "print(\"{} caracteres.\\n\".format(data['len'][fav]))\n",
    "\n",
    "# Max RTs:\n",
    "print(\"O tweet com mais retweets é: \\n{}\".format(data['Tweets'][rt]))\n",
    "print(\"Número de retweets: {}\".format(rt_max))\n",
    "print(\"{} caracteres.\\n\".format(data['len'][rt]))"
   ]
  },
  {
   "cell_type": "markdown",
   "metadata": {},
   "source": [
    "Isso é comum, mas não necessariamente acontecerá: o tweet com mais curtidas é o tweet com mais retweets. O que fizemos foi encontrar o número máximo de curtidas da coluna 'Likes' e o número máximo de retweets dos 'RTs' usando a maxfunção de numpy . Com isso, apenas procuramos o índice em cada uma das duas colunas que satisfazem o máximo. Como mais de um pode ter o mesmo número de likes / retweets (o máximo), precisamos apenas pegar o primeiro encontrado, e é por isso que usamos .index[0] para atribuir o índice às variáveis fave rt. Para imprimir o tweet que satisfaz, acessamos os dados da mesma forma que acessamos uma matriz ou qualquer objeto indexado."
   ]
  },
  {
   "cell_type": "markdown",
   "metadata": {},
   "source": [
    "### Séries temporais\n",
    "\n",
    "Pandas tem seu próprio objeto para séries temporais. Como temos um vetor inteiro com datas de criação, podemos construir séries temporais que respeitam comprimentos de tweets, curtidas e retweets."
   ]
  },
  {
   "cell_type": "code",
   "execution_count": 100,
   "metadata": {},
   "outputs": [],
   "source": [
    "# Criação de séries temporais:\n",
    "\n",
    "tlen = pd.Series(data=data['len'].values, index=data['Date'])\n",
    "tfav = pd.Series(data=data['Likes'].values, index=data['Date'])\n",
    "tret = pd.Series(data=data['RTs'].values, index=data['Date'])"
   ]
  },
  {
   "cell_type": "markdown",
   "metadata": {},
   "source": [
    "E se quisermos plotar a série temporal, os pandas já tem seu próprio método no objeto. Podemos traçar uma série temporal da seguinte forma:"
   ]
  },
  {
   "cell_type": "code",
   "execution_count": 101,
   "metadata": {},
   "outputs": [
    {
     "data": {
      "image/png": "[encoded data removed]",
      "text/plain": [
       "<Figure size 1152x288 with 1 Axes>"
      ]
     },
     "metadata": {
      "needs_background": "light"
     },
     "output_type": "display_data"
    }
   ],
   "source": [
    "# Tamanho conforme o tempo:\n",
    "tlen.plot(figsize=(16,4), color='r');"
   ]
  },
  {
   "cell_type": "markdown",
   "metadata": {},
   "source": [
    "E para traçar os likes versus os retweets no mesmo gráfico:\n",
    "\n"
   ]
  },
  {
   "cell_type": "code",
   "execution_count": 102,
   "metadata": {},
   "outputs": [
    {
     "data": {
      "image/png": "[encoded data removed]",
      "text/plain": [
       "<Figure size 1152x288 with 1 Axes>"
      ]
     },
     "metadata": {
      "needs_background": "light"
     },
     "output_type": "display_data"
    }
   ],
   "source": [
    "# Likes vs RT:\n",
    "tfav.plot(figsize=(16,4), label=\"Likes\", legend=True)\n",
    "tret.plot(figsize=(16,4), label=\"Retweets\", legend=True);"
   ]
  },
  {
   "cell_type": "markdown",
   "metadata": {},
   "source": [
    "### Gráficos de pizza de fontes\n",
    "\n",
    "Agora vamos plotar as fontes em um gráfico de pizza, já que percebemos que nem todo tweet é tweetado da mesma fonte (😱🤔). Primeiro limpamos todas as fontes:"
   ]
  },
  {
   "cell_type": "code",
   "execution_count": 104,
   "metadata": {},
   "outputs": [
    {
     "name": "stdout",
     "output_type": "stream",
     "text": [
      "Creation of content sources:\n",
      "* Twitter for iPhone\n"
     ]
    }
   ],
   "source": [
    "# Obtenção de todas as possível fontes de tweets:\n",
    "sources = []\n",
    "for source in data['Source']:\n",
    "    if source not in sources:\n",
    "        sources.append(source)\n",
    "\n",
    "# Imprimindo a lista de fontes de tweets:\n",
    "print(\"Creation of content sources:\")\n",
    "for source in sources:\n",
    "    print(\"* {}\".format(source))"
   ]
  },
  {
   "cell_type": "markdown",
   "metadata": {},
   "source": [
    "Com isso obteremos todas as fontes de tweets utilizadas pelo usuário e, depois disso, vamos criar um gráfico de pizza para analisarmos as fontes de origem dos tweets.\n",
    "\n"
   ]
  },
  {
   "cell_type": "code",
   "execution_count": 105,
   "metadata": {},
   "outputs": [
    {
     "data": {
      "image/png": "[encoded data removed]",
      "text/plain": [
       "<Figure size 432x432 with 1 Axes>"
      ]
     },
     "metadata": {},
     "output_type": "display_data"
    }
   ],
   "source": [
    "# Criação de um vetor numpy mapeado pelos labels:\n",
    "percent = np.zeros(len(sources))\n",
    "\n",
    "for source in data['Source']:\n",
    "    for index in range(len(sources)):\n",
    "        if source == sources[index]:\n",
    "            percent[index] += 1\n",
    "            pass\n",
    "\n",
    "percent /= 100\n",
    "\n",
    "# Gráfico de pizza:\n",
    "pie_chart = pd.Series(percent, index=sources, name='Sources')\n",
    "pie_chart.plot.pie(fontsize=11, autopct='%.2f', figsize=(6, 6));"
   ]
  },
  {
   "cell_type": "markdown",
   "metadata": {},
   "source": [
    "## Análise de sentimentos\n",
    "\n",
    "### Importando textblob\n",
    "\n",
    "Como mencionamos no início deste post, textblob nos permitirá fazer análises de sentimentos de uma maneira muito simples. Também usaremos a rebiblioteca do Python, que é usada para trabalhar com expressões regulares . Para isso, fornecerei duas funções de utilitário para:\n",
    "\n",
    "a) limpar o texto (o que significa que qualquer símbolo distinto de um valor alfanumérico será remapeado em um novo que satisfaça essa condição)\n",
    "\n",
    "b) criar um classificador para analisar o polaridade de cada tweet após a limpeza do texto. Não vou explicar a maneira específica pela qual a função que limpa funciona, pois seria estendida e poderia ser melhor entendida na documentação oficial de re."
   ]
  },
  {
   "cell_type": "code",
   "execution_count": 106,
   "metadata": {},
   "outputs": [],
   "source": [
    "from textblob import TextBlob\n",
    "import re\n",
    "\n",
    "def clean_tweet(tweet):\n",
    "    '''\n",
    "    Função utilizada para limpar o texto em um tweet removendo links e caracteres especiais utilizando regex.\n",
    "    '''\n",
    "    return ' '.join(re.sub(\"(@[A-Za-z0-9]+)|([^0-9A-Za-z \\t])|(\\w+:\\/\\/\\S+)\", \" \", tweet).split())\n",
    "\n",
    "def analize_sentiment(tweet):\n",
    "    '''\n",
    "    Função utilizada para classificar a polaridade de um tweet usando textblob.\n",
    "    '''\n",
    "    analysis = TextBlob(clean_tweet(tweet))\n",
    "    if analysis.sentiment.polarity > 0:\n",
    "        return 1\n",
    "    elif analysis.sentiment.polarity == 0:\n",
    "        return 0\n",
    "    else:\n",
    "        return -1"
   ]
  },
  {
   "cell_type": "markdown",
   "metadata": {},
   "source": [
    "A maneira como funciona o textblob é já fornecer um analisador treinado (legal, certo?). O Textblob pode trabalhar com diferentes modelos de aprendizado de máquina usados no processamento de linguagem natural . Se você quiser treinar seu próprio classificador (ou pelo menos verificar como ele funciona), fique à vontade para verificar o seguinte [link](https://textblob.readthedocs.io/en/dev/classifiers.html). Esse classificador poderá retornar conteúdo não muito relevante, já que estamos trabalhando com um modelo pré-treinado (para o qual não usamos os dados que foram usados no treinamento).\n",
    "\n",
    "De qualquer forma, voltando ao código, vamos apenas adicionar uma coluna extra aos nossos dados. Esta coluna irá conter a análise de sentimento e podemos traçar o dataframe para ver a atualização:"
   ]
  },
  {
   "cell_type": "code",
   "execution_count": 107,
   "metadata": {},
   "outputs": [
    {
     "data": {
      "text/html": [
       "<div>\n",
       "<style scoped>\n",
       "    .dataframe tbody tr th:only-of-type {\n",
       "        vertical-align: middle;\n",
       "    }\n",
       "\n",
       "    .dataframe tbody tr th {\n",
       "        vertical-align: top;\n",
       "    }\n",
       "\n",
       "    .dataframe thead th {\n",
       "        text-align: right;\n",
       "    }\n",
       "</style>\n",
       "<table border=\"1\" class=\"dataframe\">\n",
       "  <thead>\n",
       "    <tr style=\"text-align: right;\">\n",
       "      <th></th>\n",
       "      <th>Tweets</th>\n",
       "      <th>len</th>\n",
       "      <th>ID</th>\n",
       "      <th>Date</th>\n",
       "      <th>Source</th>\n",
       "      <th>Likes</th>\n",
       "      <th>RTs</th>\n",
       "      <th>SA</th>\n",
       "    </tr>\n",
       "  </thead>\n",
       "  <tbody>\n",
       "    <tr>\n",
       "      <th>0</th>\n",
       "      <td>Obrigado sempre pela consideração @OdeCarvalho...</td>\n",
       "      <td>102</td>\n",
       "      <td>1055255347357720576</td>\n",
       "      <td>2018-10-25 00:30:55</td>\n",
       "      <td>Twitter for iPhone</td>\n",
       "      <td>7051</td>\n",
       "      <td>1690</td>\n",
       "      <td>0</td>\n",
       "    </tr>\n",
       "    <tr>\n",
       "      <th>1</th>\n",
       "      <td>Link no youtube da live feita no facebook: Nov...</td>\n",
       "      <td>138</td>\n",
       "      <td>1055247760092553221</td>\n",
       "      <td>2018-10-25 00:00:46</td>\n",
       "      <td>Twitter for iPhone</td>\n",
       "      <td>6186</td>\n",
       "      <td>1853</td>\n",
       "      <td>1</td>\n",
       "    </tr>\n",
       "    <tr>\n",
       "      <th>2</th>\n",
       "      <td>Logo mais, às 20:00, quarta-feira,(24/10/2018)...</td>\n",
       "      <td>139</td>\n",
       "      <td>1055215019133202432</td>\n",
       "      <td>2018-10-24 21:50:40</td>\n",
       "      <td>Twitter for iPhone</td>\n",
       "      <td>16661</td>\n",
       "      <td>4231</td>\n",
       "      <td>1</td>\n",
       "    </tr>\n",
       "    <tr>\n",
       "      <th>3</th>\n",
       "      <td>A melhor forma de mostrar respeito às pessoas ...</td>\n",
       "      <td>140</td>\n",
       "      <td>1055210728653766656</td>\n",
       "      <td>2018-10-24 21:33:37</td>\n",
       "      <td>Twitter for iPhone</td>\n",
       "      <td>32164</td>\n",
       "      <td>8960</td>\n",
       "      <td>0</td>\n",
       "    </tr>\n",
       "    <tr>\n",
       "      <th>4</th>\n",
       "      <td>Há um complô espalhando fakenews descaradas e ...</td>\n",
       "      <td>140</td>\n",
       "      <td>1055192032032026627</td>\n",
       "      <td>2018-10-24 20:19:19</td>\n",
       "      <td>Twitter for iPhone</td>\n",
       "      <td>20804</td>\n",
       "      <td>6173</td>\n",
       "      <td>0</td>\n",
       "    </tr>\n",
       "    <tr>\n",
       "      <th>5</th>\n",
       "      <td>Mais uma mentira descarada do fantoche de corr...</td>\n",
       "      <td>81</td>\n",
       "      <td>1055166110428024832</td>\n",
       "      <td>2018-10-24 18:36:19</td>\n",
       "      <td>Twitter for iPhone</td>\n",
       "      <td>20228</td>\n",
       "      <td>6296</td>\n",
       "      <td>0</td>\n",
       "    </tr>\n",
       "    <tr>\n",
       "      <th>6</th>\n",
       "      <td>RT @cor0te: As definições de ameaça à democrac...</td>\n",
       "      <td>91</td>\n",
       "      <td>1055163290349981696</td>\n",
       "      <td>2018-10-24 18:25:07</td>\n",
       "      <td>Twitter for iPhone</td>\n",
       "      <td>0</td>\n",
       "      <td>4389</td>\n",
       "      <td>0</td>\n",
       "    </tr>\n",
       "    <tr>\n",
       "      <th>7</th>\n",
       "      <td>Esperamos uma retratação de todos os que, mesm...</td>\n",
       "      <td>140</td>\n",
       "      <td>1055154125128826881</td>\n",
       "      <td>2018-10-24 17:48:41</td>\n",
       "      <td>Twitter for iPhone</td>\n",
       "      <td>43836</td>\n",
       "      <td>12233</td>\n",
       "      <td>0</td>\n",
       "    </tr>\n",
       "    <tr>\n",
       "      <th>8</th>\n",
       "      <td>Concordo com o Mano Brown! 👍🏻 https://t.co/crI...</td>\n",
       "      <td>53</td>\n",
       "      <td>1055131515674337280</td>\n",
       "      <td>2018-10-24 16:18:51</td>\n",
       "      <td>Twitter for iPhone</td>\n",
       "      <td>48223</td>\n",
       "      <td>10967</td>\n",
       "      <td>0</td>\n",
       "    </tr>\n",
       "    <tr>\n",
       "      <th>9</th>\n",
       "      <td>Segue a fonte: https://t.co/wNF6hCAvCq</td>\n",
       "      <td>38</td>\n",
       "      <td>1055109376304922625</td>\n",
       "      <td>2018-10-24 14:50:52</td>\n",
       "      <td>Twitter for iPhone</td>\n",
       "      <td>11598</td>\n",
       "      <td>2873</td>\n",
       "      <td>0</td>\n",
       "    </tr>\n",
       "  </tbody>\n",
       "</table>\n",
       "</div>"
      ],
      "text/plain": [
       "                                              Tweets  len  \\\n",
       "0  Obrigado sempre pela consideração @OdeCarvalho...  102   \n",
       "1  Link no youtube da live feita no facebook: Nov...  138   \n",
       "2  Logo mais, às 20:00, quarta-feira,(24/10/2018)...  139   \n",
       "3  A melhor forma de mostrar respeito às pessoas ...  140   \n",
       "4  Há um complô espalhando fakenews descaradas e ...  140   \n",
       "5  Mais uma mentira descarada do fantoche de corr...   81   \n",
       "6  RT @cor0te: As definições de ameaça à democrac...   91   \n",
       "7  Esperamos uma retratação de todos os que, mesm...  140   \n",
       "8  Concordo com o Mano Brown! 👍🏻 https://t.co/crI...   53   \n",
       "9             Segue a fonte: https://t.co/wNF6hCAvCq   38   \n",
       "\n",
       "                    ID                Date              Source  Likes    RTs  \\\n",
       "0  1055255347357720576 2018-10-25 00:30:55  Twitter for iPhone   7051   1690   \n",
       "1  1055247760092553221 2018-10-25 00:00:46  Twitter for iPhone   6186   1853   \n",
       "2  1055215019133202432 2018-10-24 21:50:40  Twitter for iPhone  16661   4231   \n",
       "3  1055210728653766656 2018-10-24 21:33:37  Twitter for iPhone  32164   8960   \n",
       "4  1055192032032026627 2018-10-24 20:19:19  Twitter for iPhone  20804   6173   \n",
       "5  1055166110428024832 2018-10-24 18:36:19  Twitter for iPhone  20228   6296   \n",
       "6  1055163290349981696 2018-10-24 18:25:07  Twitter for iPhone      0   4389   \n",
       "7  1055154125128826881 2018-10-24 17:48:41  Twitter for iPhone  43836  12233   \n",
       "8  1055131515674337280 2018-10-24 16:18:51  Twitter for iPhone  48223  10967   \n",
       "9  1055109376304922625 2018-10-24 14:50:52  Twitter for iPhone  11598   2873   \n",
       "\n",
       "   SA  \n",
       "0   0  \n",
       "1   1  \n",
       "2   1  \n",
       "3   0  \n",
       "4   0  \n",
       "5   0  \n",
       "6   0  \n",
       "7   0  \n",
       "8   0  \n",
       "9   0  "
      ]
     },
     "metadata": {},
     "output_type": "display_data"
    }
   ],
   "source": [
    "# Cria a coluna com o resultado da análise:\n",
    "data['SA'] = np.array([ analize_sentiment(tweet) for tweet in data['Tweets'] ])\n",
    "\n",
    "# Exibe o dataframe atualizado com uma nova coluna\n",
    "display(data.head(10))"
   ]
  },
  {
   "cell_type": "markdown",
   "metadata": {},
   "source": [
    "Como podemos ver, a última coluna contém a análise de sentimento (SA). Agora só precisamos verificar os resultados."
   ]
  },
  {
   "cell_type": "markdown",
   "metadata": {},
   "source": [
    "## Analisando os resultados\n",
    "\n",
    "Para ter uma maneira simples de verificar os resultados, vamos contar o número de tweets neutros, positivos e negativos e extrair as porcentagens."
   ]
  },
  {
   "cell_type": "code",
   "execution_count": 108,
   "metadata": {},
   "outputs": [],
   "source": [
    "\n",
    "# Construindo listas com tweets classificados:\n",
    "\n",
    "pos_tweets = [ tweet for index, tweet in enumerate(data['Tweets']) if data['SA'][index] > 0]\n",
    "neu_tweets = [ tweet for index, tweet in enumerate(data['Tweets']) if data['SA'][index] == 0]\n",
    "neg_tweets = [ tweet for index, tweet in enumerate(data['Tweets']) if data['SA'][index] < 0]"
   ]
  },
  {
   "cell_type": "markdown",
   "metadata": {},
   "source": [
    "Agora que temos as listas, apenas imprimimos as porcentagens:"
   ]
  },
  {
   "cell_type": "code",
   "execution_count": 109,
   "metadata": {},
   "outputs": [
    {
     "name": "stdout",
     "output_type": "stream",
     "text": [
      "Percentage of positive tweets: 4.5%\n",
      "Percentage of neutral tweets: 93.0%\n",
      "Percentage de negative tweets: 2.5%\n"
     ]
    }
   ],
   "source": [
    "# Imprimindo porcentagens:\n",
    "\n",
    "print(\"Percentage of positive tweets: {}%\".format(len(pos_tweets)*100/len(data['Tweets'])))\n",
    "print(\"Percentage of neutral tweets: {}%\".format(len(neu_tweets)*100/len(data['Tweets'])))\n",
    "print(\"Percentage de negative tweets: {}%\".format(len(neg_tweets)*100/len(data['Tweets'])))"
   ]
  },
  {
   "cell_type": "markdown",
   "metadata": {},
   "source": [
    "Temos que considerar que estamos trabalhando apenas com os 200 tweets mais recentes de D. Trump. Para resultados mais precisos, podemos considerar mais tweets. Uma coisa interessante (um convite para os leitores) é analisar a polaridade dos tweets de diferentes fontes, pode ser determinístico que, considerando apenas os tweets de uma fonte, a polaridade resultaria mais positiva / negativa. De qualquer forma, espero que isso tenha resultado interessante.\n",
    "\n",
    "Como vimos, podemos extrair, manipular, visualizar e analisar dados de maneira muito simples com o Python. Espero que isso deixe alguma incerteza, para incentivar uma maior exploração usando essas ferramentas."
   ]
  }
 ],
 "metadata": {
  "kernelspec": {
   "display_name": "Python 3",
   "language": "python",
   "name": "python3"
  },
  "language_info": {
   "codemirror_mode": {
    "name": "ipython",
    "version": 3
   },
   "file_extension": ".py",
   "mimetype": "text/x-python",
   "name": "python",
   "nbconvert_exporter": "python",
   "pygments_lexer": "ipython3",
   "version": "3.6.6"
  }
 },
 "nbformat": 4,
 "nbformat_minor": 2
}
