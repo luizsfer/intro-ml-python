{
 "cells": [
  {
   "cell_type": "markdown",
   "metadata": {},
   "source": [
    "# Introdução ao aprendizado de máquina utilizando Python"
   ]
  },
  {
   "cell_type": "markdown",
   "metadata": {},
   "source": [
    "#### Professor: Luiz Antonio de Sousa Ferreira"
   ]
  },
  {
   "cell_type": "markdown",
   "metadata": {},
   "source": [
    "#### Contato: luiz.ferreira@outlook.com | [@luizsferreira](http://instagram.com/luizsferreira) (IG)"
   ]
  },
  {
   "cell_type": "markdown",
   "metadata": {},
   "source": [
    "Acesso: [bit.ly/pucpcaldas](http://bit.ly/pucpcaldas)"
   ]
  },
  {
   "cell_type": "markdown",
   "metadata": {},
   "source": [
    "__________"
   ]
  },
  {
   "cell_type": "markdown",
   "metadata": {},
   "source": [
    "## Introdução rápida ao Python\n",
    "\n",
    "[Python](http://www.python.org) é uma linguagem de altíssimo nível orientada a objeto, interpretada, de tipagem dinâmica e forte.\n",
    "\n",
    "#### Tipagem dinâmica: \n",
    "Quanto aos dados e sua leitura sobre a linguagem de programação, variáveis podem receber qualquer tipo de valor. Verificando, sempre, qual tipo de dado está sendo requisitado, não necessita de definição do tipo de variável, essa verificação é realizada em tempo de execução, executada por uma infraestrutura auxiliar, geralmente, chamada de runtime. Checagem do tipo de dados inseridos pelo usuário, por exemplo, é uma preocupação do programador."
   ]
  },
  {
   "cell_type": "code",
   "execution_count": null,
   "metadata": {},
   "outputs": [],
   "source": [
    "dinamicamente = ['python', 'php']\n",
    "estaticamente = ['c', 'c++', 'java']\n",
    "\n",
    "print(\"Linguagens de tipagem dinâmica: \")\n",
    "for dinamica in dinamicamente: print (dinamica)\n",
    "print(\"----------------------------------------------\")\n",
    "print(\"Linguagens de tipagem estática: \")\n",
    "for estatica in estaticamente: print (estatica)\n",
    "    \n",
    "print(\"----------------------------------------------\")\n",
    "print(\"Variável impressa como string:\")\n",
    "x = \"5\"\n",
    "print(x)\n",
    "print(\"Variável impressa como int:\")\n",
    "x = 5\n",
    "print(x)"
   ]
  },
  {
   "cell_type": "markdown",
   "metadata": {},
   "source": [
    "#### Forte: \n",
    "Uma linguagem fortemente tipada exige que o usuário defina o tipo de sua variável, pois, em tempo de execução as mesmas necessitam dessa especificação, porém, não é somente isso. Como vimos, Python é uma linguagem que permite o dinamismo, mas ela é uma linguagem fortemente tipada, pois ela não permite que diversas operações sejam executadas com variáveis de tipos diferentes.\n",
    "\n"
   ]
  },
  {
   "cell_type": "code",
   "execution_count": null,
   "metadata": {},
   "outputs": [],
   "source": [
    "5 + \"python\""
   ]
  },
  {
   "cell_type": "code",
   "execution_count": null,
   "metadata": {},
   "outputs": [],
   "source": [
    "5+5"
   ]
  },
  {
   "cell_type": "code",
   "execution_count": null,
   "metadata": {},
   "outputs": [],
   "source": [
    "\"linguagem\"+\" \"+\"de\"+\" \"+\"programação\"+\" \"+\"python\""
   ]
  },
  {
   "cell_type": "markdown",
   "metadata": {},
   "source": [
    "#### Interpretada: \n",
    "\n",
    "Para explicar o conceito de interpretada ou de seu antônimo, compilada, podemos recorrer ao dicionário, obteremos algo como:\n",
    "\n",
    "- compilar: verbo transitivo que significa reunir; ajuntar;\n",
    "- interpretar: verbo transitivo que significa tornar claro o sentido de; explicar; traduzir;\n",
    "\n",
    "Percebemos que as definições se complementam e não opõe entre si, o que significa que podemos ter, inclusive, uma linguagem interpretada e compilada. A linguagem compilada, tal como, C ou C++, quando executadas, seu processo de compilação reune todo o código escrito e traduzido diretamente em linguagem de máquina, fazendo com que tenha um formato específico em cada tipo de máquina em que for compilada, mesmo tendo o código idêntico. Já a linguagem interpretada possui uma \"camada extra\" em sua execução que o transforma em uma linguagem intermediária, geralmente conhecida como bytecodes, muito trabalhado em Java, mas também faz parte do C# e Python. A execução gera o arquivo bytecode que permite que uma máquina virtual a execute, independentemente de seu tipo, desde que, a máquina tenha uma instância de seu interpretador instalado."
   ]
  },
  {
   "cell_type": "markdown",
   "metadata": {},
   "source": [
    "_____"
   ]
  },
  {
   "cell_type": "markdown",
   "metadata": {},
   "source": [
    "Python possui uma sintaxe clara e concisa, o que o torna facilmente interpretada e seu código mais fácil de ser reutilizado por diferentes programadores, na internet, você poderá encontrar termos que dizem como Python é uma linguagem muito produtiva quando comparada a outras linguagens comuns no mercado.\n",
    "\n",
    "Por ser uma linguagem de alto nível, sua curva de aprendizado é pequena.\n",
    "\n",
    "Possui estruturas comuns de linguagem como Java e C#, da mesma forma que possui uma gama elevada de frameworks e módulos disponibilizados pela comunidade, fazendo com que não necessite de retrabalhos quando utilizada.\n",
    "\n",
    "Python é um software de código aberto com licença GPL mas que permite ser utilizada em produtos proprietários. A organização responsável pela sua manutenção é a Python Software Foundation. Por ser aberta e de aprendizado relativamente fácil é muito utilizada como linguagem principal em diversas situações, mas também pode ser encontrada como linguagem de script em diversos softwares, dentre os mais conhecidos podemos citar o BrOffice, PostgreeSQL, Blender, GIMP e Inkscape. Também podemos integrá-la a quase todas as linguagens mais conhecidas do mercado, até mesmo as mais antigas, como C e Fortran, o que a faz ser uma linguagem ainda mais dinâmica.\n",
    "\n",
    "As metas do projeto foram resumidas por Tim Peters em um texto chamado Zen of Python, que está disponível no próprio Python através do comando:"
   ]
  },
  {
   "cell_type": "code",
   "execution_count": null,
   "metadata": {},
   "outputs": [],
   "source": [
    "import this"
   ]
  },
  {
   "cell_type": "markdown",
   "metadata": {},
   "source": [
    "Propostas para melhoria da linguagem são chamadas de PEPs (Python Enhancement Proposals), que também servem de referência para novos recursos a serem implementados na linguagem.\n",
    "\n",
    "Além do site oficial, outras boas fontes de informação sobre a linguagem são: Python Brasil, o site da comunidade Python no Brasil, com bastante informação em português, e Python Cookbook, site que armazena “receitas”: pequenas porções de código para realizar tarefas específicas."
   ]
  },
  {
   "cell_type": "markdown",
   "metadata": {},
   "source": [
    "____"
   ]
  },
  {
   "cell_type": "markdown",
   "metadata": {},
   "source": [
    "## Sintaxe"
   ]
  },
  {
   "cell_type": "markdown",
   "metadata": {},
   "source": [
    "Resumindo -> ``TAB`` , ``\\``, ``#``\n",
    "\n",
    "Python prima a simplicidade, lembre-se:"
   ]
  },
  {
   "cell_type": "code",
   "execution_count": null,
   "metadata": {},
   "outputs": [],
   "source": [
    "import this"
   ]
  },
  {
   "cell_type": "markdown",
   "metadata": {},
   "source": [
    "Um programa feito em Python é constituído de linhas, que podem continuar nas linhas seguintes, pelo uso do caractere de barra invertida ao final da linha ou parênteses, colchetes ou chaves, em expressões que utilizam tais caracteres. Já os comentários ficam por conta do #, que após ser inserido, manda no restante da linha.\n",
    "\n",
    "____\n",
    "\n",
    "Em Python temos os chamados comentários funcionais, onde podemos definir configurações e características do nosso projeto.\n",
    "Temos exemplos como:"
   ]
  },
  {
   "cell_type": "code",
   "execution_count": null,
   "metadata": {},
   "outputs": [],
   "source": [
    "# -*- coding: utf-8 -*-\n",
    "\n",
    "\n",
    "string = 'pythön!'\n",
    "print('The string is:', string)\n",
    "\n",
    "string_utf8 = string.encode(\"utf-8\")\n",
    "print('The encoded version is:', string_utf8)\n",
    "\n",
    "string_iso = string.encode(\"iso_8859_1\", \"strict\")\n",
    "print('The encoded version is:', string_iso)\n",
    "\n",
    "string_utf32 = string.encode(\"utf-32\", \"strict\")\n",
    "print('The encoded version is:', string_utf32)"
   ]
  },
  {
   "cell_type": "markdown",
   "metadata": {},
   "source": [
    "___"
   ]
  },
  {
   "cell_type": "markdown",
   "metadata": {},
   "source": [
    "Podemos quebrar linhas no Python, certo?"
   ]
  },
  {
   "cell_type": "code",
   "execution_count": null,
   "metadata": {},
   "outputs": [],
   "source": [
    "inteiro = 7 * 3 + 5 / 2\n",
    "\n",
    "quebrado = 7 * 3 + \\\n",
    "5 / 2\n",
    "\n",
    "print(\"Temos o cálculo inteiro: \", inteiro, \". E o quebrado: \", quebrado)"
   ]
  },
  {
   "cell_type": "code",
   "execution_count": null,
   "metadata": {},
   "outputs": [],
   "source": [
    "string = ['a', 'b', 'c', \n",
    "'d', 'e']\n",
    "\n",
    "print(\"Desse jeito da certo! Veja só: \" + str(string))"
   ]
  },
  {
   "cell_type": "code",
   "execution_count": null,
   "metadata": {},
   "outputs": [],
   "source": [
    "intervalo = range(1,\n",
    "11)\n",
    "\n",
    "print(\"E a virgula dentro de parenteses? \" , intervalo)"
   ]
  },
  {
   "cell_type": "markdown",
   "metadata": {},
   "source": [
    "___"
   ]
  },
  {
   "cell_type": "markdown",
   "metadata": {},
   "source": [
    "## Blocos\n",
    "\n",
    "Em Python, as porções de códigos são chamados de blocos, esses blocos de código são delimitados pelo uso de, vejam só, indentação, que deve ser constante no bloco de código, porém é considerada uma boa prática manter a consistência no projeto todo e evitar a mistura de tabulações e espaços.\n",
    "\n",
    "A linha anterior ao bloco sempre termina com dois pontos (:) e representa uma estrutura de controle da linguagem ou uma declaração de uma nova estrutura (uma função, por exemplo)."
   ]
  },
  {
   "cell_type": "code",
   "execution_count": null,
   "metadata": {},
   "outputs": [],
   "source": [
    "# Para i na lista 234, 654, 378, 798:\n",
    "for i in [234, 654, 378, 798]:\n",
    "    # Se o resto dividindo por 3 for igual a zero:\n",
    "    if i % 3 == 0:\n",
    "        # Imprime...\n",
    "        print (i, '/ 3 =', i / 3)"
   ]
  },
  {
   "cell_type": "markdown",
   "metadata": {},
   "source": [
    "### Lembre-se SEMPRE dessa imagem\n",
    "\n",
    "![](http://nbviewer.jupyter.org/github/ricardoduarte/python-para-desenvolvedores/blob/master/Capitulo2/bpypd_diags2.png)"
   ]
  },
  {
   "cell_type": "markdown",
   "metadata": {},
   "source": [
    "____"
   ]
  },
  {
   "cell_type": "markdown",
   "metadata": {},
   "source": [
    "## Controle de fluxo\n",
    "\n",
    "Controle de fluxo\n",
    "Python utiliza a mesma conjuntura de outras linguagens para seu controlador de fluxo:\n",
    "\n",
    "Esquema ``if-elseif(elif)-else``, onde temos:\n",
    "\n",
    "#### Sintaxe:\n",
    "   \n",
    "if <condição>:\n",
    "\n",
    "    <bloco de código>\n",
    "\n",
    "elif <condição>:\n",
    "\n",
    "    <bloco de código>\n",
    "\n",
    "elif <condição>:\n",
    "\n",
    "    <bloco de código>\n",
    "\n",
    "else:\n",
    "\n",
    "    <bloco de código>\n",
    "\n",
    "#### Na qual:\n",
    "\n",
    "- <condição>: sentença que possa ser avaliada como verdadeira ou falsa.\n",
    "\n",
    "- <bloco de código>: sequência de linhas de comando.\n",
    "\n",
    "#### Observação:\n",
    "\n",
    "As clausulas elif e else são opcionais e podem existir vários elifs para o mesmo if, porém apenas um else ao final. Parênteses só são necessários para evitar ambiguidades.\n",
    "\n",
    "## Meu exemplo:\n",
    "\n",
    "Poços está fria?\n",
    "\n",
    "- \\> 30, Derretendo\n",
    "\n",
    "- \\> 20, Calorzinho\n",
    "\n",
    "- \\> 10, Normal\n",
    "\n",
    "- \\> 0, Ok, Preciso de um casaco\n",
    "\n",
    "- \\> -10, Pra Poços, esqueci, ainda é normal."
   ]
  },
  {
   "cell_type": "code",
   "execution_count": null,
   "metadata": {},
   "outputs": [],
   "source": [
    "# Vamos tentar\n",
    "\n",
    "pocos_agora = '??'\n",
    "\n",
    "print(pocos_agora) "
   ]
  },
  {
   "cell_type": "markdown",
   "metadata": {},
   "source": [
    "Se o bloco de código for composto de apenas uma linha, ele pode ser escrito após os dois pontos:"
   ]
  },
  {
   "cell_type": "code",
   "execution_count": null,
   "metadata": {},
   "outputs": [],
   "source": [
    "# Vamos impementar em uma linha?\n"
   ]
  },
  {
   "cell_type": "markdown",
   "metadata": {},
   "source": [
    "A partir da versão 2.5, Python permite uma variável receber um condição:"
   ]
  },
  {
   "cell_type": "code",
   "execution_count": null,
   "metadata": {},
   "outputs": [],
   "source": [
    "# Testemos?\n"
   ]
  },
  {
   "cell_type": "markdown",
   "metadata": {},
   "source": [
    "___"
   ]
  },
  {
   "cell_type": "markdown",
   "metadata": {},
   "source": [
    "## Laços\n",
    "\n",
    "Laços (loops) são estruturas de repetição, geralmente usados para processar coleções de dados, tais como linhas de um arquivo ou registros de um banco de dados, que precisam ser processados por um mesmo bloco de código.\n",
    "\n",
    "#### FOR\n",
    "\n",
    "É a estrutura de repetição mais usada no Python. A instrução aceita não só sequências estáticas, mas também sequências geradas por iteradores. Iteradores são estruturas que permitem iterações, ou seja, acesso aos itens de uma coleção de elementos, de forma sequencial.\n",
    "\n",
    "![](http://nbviewer.jupyter.org/github/ricardoduarte/python-para-desenvolvedores/blob/master/Capitulo4/bpypd_diags3.png)\n",
    "\n",
    "Durante a execução de um laço for, a referência aponta para um elemento da sequência. A cada iteração, a referência é atualizada, para que o bloco de código do for processe o elemento correspondente.\n",
    "\n",
    "Temos o Break que interrompe a atividade e o Continue que passa para a próxima iteração\n",
    "\n",
    "#### Sintaxe FOR\n",
    "\n",
    "for <referência> in <sequência>:\n",
    "\n",
    "    <bloco de código>\n",
    "\n",
    "    continue\n",
    "\n",
    "    break\n",
    "    \n",
    "else:\n",
    "\n",
    "    <bloco de código>\n",
    "    \n",
    "#### Onde:\n",
    "\n",
    "- <referência> : Irá proporcionar a variável de referência do laço\n",
    "\n",
    "- <sequência> : Será o valor que definirá os limites de execução\n",
    "\n",
    "- <bloco de código> : Será a atividade que será executada no laço"
   ]
  },
  {
   "cell_type": "code",
   "execution_count": null,
   "metadata": {},
   "outputs": [],
   "source": [
    "# Soma de 0 a 99\n",
    "s = 0\n",
    "for x in range(1, 100):\n",
    "    s = s + x\n",
    "print(s)"
   ]
  },
  {
   "cell_type": "markdown",
   "metadata": {},
   "source": [
    "#### Anotação:\n",
    "\n",
    "Função RANGE(M, N, P)\n",
    "\n",
    "Essa função permite obtermos valores que encontram-se entre M e N, com passos de P\n",
    "\n",
    "#### While\n",
    "\n",
    "Estrutura de repetição que executa um bloco de código atendendo a uma condição, encerrando seu trabalho quando satisfeita.\n",
    "\n",
    "#### Sintaxe WHILE\n",
    "\n",
    "while <condição>:\n",
    "\n",
    "    <bloco de código>\n",
    "\n",
    "    continue\n",
    "\n",
    "    break\n",
    "\n",
    "else:\n",
    "\n",
    "    <bloco de código>\n",
    "    \n",
    "#### Onde:\n",
    "\n",
    "- <condição> : Irá proporcionar a condição em que o bloco será executado\n",
    "\n",
    "- <bloco de código> : Será a atividade que será executada no laço"
   ]
  },
  {
   "cell_type": "code",
   "execution_count": null,
   "metadata": {},
   "outputs": [],
   "source": [
    "# Soma de 0 a 99\n",
    "s = 0\n",
    "x = 1\n",
    "\n",
    "while x < 100:\n",
    "    s = s + x\n",
    "    x = x + 1\n",
    "print (s)"
   ]
  },
  {
   "cell_type": "markdown",
   "metadata": {},
   "source": [
    "#### Observação: \n",
    "\n",
    "O laço while é adequado quando não há como determinar quantas iterações vão ocorrer e não há uma sequência a seguir."
   ]
  },
  {
   "cell_type": "markdown",
   "metadata": {},
   "source": [
    "___"
   ]
  },
  {
   "cell_type": "markdown",
   "metadata": {},
   "source": [
    "## Tipos\n",
    "\n",
    "#### Regrinhas: \n",
    "\n",
    "Os nomes das variáveis devem começar com ``letra`` (sem acentuação) ou ``sublinhado`` (_), pode ser seguido por letras (sem acentuação), dígitos ou outros sublinhados (_), sendo que ``maiúsculas e minúsculas`` são consideradas diferentes, o famose CaseSensitive.\n",
    "\n",
    "Em Python, encontramos tipos nativos: ``texto`` e ``números`` (inteiro, flutuante, real, complexo, ...) e também as chamadas coleções ``lista``, ``tupla`` e ``dicionário``.\n",
    "\n",
    "Assim como as demais linguagens de programação temos variáveis mutáveis e imutáveis.\n",
    "\n",
    "Em Python, os nomes de variáveis são referências, que podem ser alteradas em tempos de execução.\n",
    "\n",
    "Os tipos e rotinas mais comuns estão implementados na forma de ``builtins``, ou seja, eles estão sempre disponíveis em tempo de execução, sem a necessidade de importar nenhuma biblioteca.\n",
    "\n",
    "### Números \n",
    "\n",
    "Temos como tipos numéricos na forma de builtins:\n",
    "\n",
    "- Inteiros (famoso int)\n",
    "- Real de ponto flutuante (famoso float)\n",
    "- Complexo (nem tão famoso c=3+4j)\n",
    "\n",
    "#### Curiosidade:\n",
    "\n",
    "Além dos números inteiros convencionais, existem também os inteiros longos, que tem dimensão arbitrária e são limitados pela memória disponível. As conversões entre inteiro e longo são realizadas de forma automática. A função builtin int() pode ser usada para converter outros tipos para inteiro, incluindo mudanças de base."
   ]
  },
  {
   "cell_type": "code",
   "execution_count": null,
   "metadata": {},
   "outputs": [],
   "source": [
    "# Convertendo de real para inteiro\n",
    "print (\"Real para inteiro --------\")\n",
    "print ('int(3.14) =', int(3.14))\n",
    "\n",
    "\n",
    "# Convertendo de inteiro para real\n",
    "print (\"\\nInteiro para real --------\")\n",
    "print ('float(5) =', float(5))\n",
    "\n",
    "# Calculo entre inteiro e real resulta em real\n",
    "print (\"\\nCalculando inteiro e real resultando real --------\")\n",
    "print ('5.0 / 2 + 3 = ', 5.0 / 2 + 3)\n",
    "\n",
    "# Inteiros em outra base\n",
    "print (\"\\nConvertendo --------\")\n",
    "print (\"\\Base 8 --------\")\n",
    "print (\"int('20', 8) =\", int('20', 8)) # base 8\n",
    "print (\"\\Base 16 --------\")\n",
    "print (\"int('20', 16) =\", int('20', 16)) # base 16\n",
    "\n",
    "# Operações com números complexos\n",
    "print (\"\\nOs números complexos --------\")\n",
    "c = 3 + 4j\n",
    "print ('c =', c)\n",
    "print ('Parte real:', c.real)\n",
    "print ('Parte imaginária:', c.imag)\n",
    "print ('Conjugado:', c.conjugate())"
   ]
  },
  {
   "cell_type": "markdown",
   "metadata": {},
   "source": [
    "### Operações matemáticas, lógicas e computacionais\n",
    "\n",
    "O Python tem uma série de operadores definidos para manipular números, através de cálculos aritméticos, operações lógicas (que testam se uma determina condição é verdadeira ou falsa) ou processamento bit-a-bit (em que os números são tratados na forma binária).\n",
    "\n",
    "#### Operações matemáticas\n",
    "\n",
    "- Soma (+)\n",
    "- Diferença (-)\n",
    "- Multiplicação (*)\n",
    "- Divisão (/): entre dois inteiros funciona igual à divisão inteira. Em outros casos, o resultado é real.\n",
    "- Divisão inteira (//): o resultado é truncado para o inteiro imediatamente inferior, mesmo quando aplicado em números reais, porém neste caso o resultado será real também.\n",
    "- Módulo (%): retorna o resto da divisão.\n",
    "- Potência (**): pode ser usada para calcular a raiz, através de expoentes fracionários (exemplo: 100 ** 0.5).\n",
    "- Positivo (+)\n",
    "- Negativo (-)\n",
    "\n",
    "#### Operações lógicas:\n",
    "\n",
    "- Menor (<)\n",
    "- Maior (>)\n",
    "- Menor ou igual (<=)\n",
    "- Maior ou igual (>=)\n",
    "- Igual (==)\n",
    "- Diferente (!=)\n",
    "\n",
    "#### Operações computacionais\n",
    "\n",
    "- Deslocamento para esquerda (<<)\n",
    "- Deslocamento para direita (>>)\n",
    "- E bit-a-bit (&)\n",
    "- Ou bit-a-bit (|)\n",
    "- Ou exclusivo bit-a-bit (^)\n",
    "- Inversão (~)"
   ]
  },
  {
   "cell_type": "code",
   "execution_count": null,
   "metadata": {},
   "outputs": [],
   "source": [
    "# Esse tipo de operação é mais complexa e pouco utilizado. Mas a titulo de curiosidade, segue o exemplo.\n",
    "\n",
    "x = 10\n",
    "print(\"Temos a variável inteira:\", x)\n",
    "print(\"Ela tem seu valor binário igual a\",bin(x))\n",
    "print(\"Quando deslocamos seu valor para esquerda temos:\",bin(x<<1))\n",
    "print(\"Quando deslocamos seu valor para direita temos:\",bin(x>>1))\n",
    "\n",
    "print(\"\\nPodemos trabalhar com tabelas verdade\")\n",
    "print(\"Operação AND:\", 0&1)\n",
    "print(\"Operação OR:\", 0|1)\n",
    "print(\"Operação XOR\", 1^0)\n",
    "\n",
    "x = 0 \n",
    "print(\"Operação de inversão:\", bin(~x))"
   ]
  },
  {
   "cell_type": "markdown",
   "metadata": {},
   "source": [
    "____"
   ]
  },
  {
   "cell_type": "markdown",
   "metadata": {},
   "source": [
    "## Texto\n",
    "\n",
    "As strings no Python são builtins para armazenar texto. Como são imutáveis, não é possível adicionar, remover ou mesmo modificar algum caractere de uma string. Para realizar essas operações, o Python precisa criar um nova string.\n",
    "\n",
    "Tipos de string:\n",
    "\n",
    "- String padrão: s = 'Led Zeppelin'\n",
    "- String unicode: u = u'Björk'\n",
    "\n",
    "A inicialização de strings pode ser:\n",
    "\n",
    "- Com aspas simples ou duplas.\n",
    "- Em várias linhas consecutivas, desde que seja entre três aspas simples ou duplas.\n",
    "- Sem expansão de caracteres (exemplo: s = r'\\n', em que s conterá os caracteres \\ e n)."
   ]
  },
  {
   "cell_type": "code",
   "execution_count": null,
   "metadata": {},
   "outputs": [],
   "source": [
    "s = 'Camel'\n",
    "\n",
    "# Concatenação\n",
    "print(\"Podemos concatenar?\")\n",
    "print ('The run away!')\n",
    "\n",
    "# Interpolação, uso de um objeto para obtenção de informações implícitas, por exemplo, o seu tamanho.\n",
    "print(\"\\nPodemos interpolar?\")\n",
    "print ('tamanho de %s => %s' % (s,s))\n",
    "\n",
    "# String tratada como sequência\n",
    "print(\"\\nAfinal, string não é uma lista de char, e se eu usar o for?\")\n",
    "\n",
    "\n",
    "print(\"\\nQuando falamos no tal do objeto...\")\n",
    "# Strings são objetos\n",
    "if s.startswith('C'): print (s.upper())\n",
    "\n",
    "# o que acontecerá se eu multiplicar o string no print?\n",
    "print(\"\\nDeu a louca no string!\")"
   ]
  },
  {
   "cell_type": "markdown",
   "metadata": {},
   "source": [
    "___\n",
    "\n",
    "O operador % é usado para fazer interpolação de strings. Sabia que a interpolação é mais eficiente no uso de memória do que a concatenação convencional? Os símbolos podem ser usados para apresentar números em diversos formatos.\n",
    "\n",
    "- %s: string.\n",
    "- %d: inteiro.\n",
    "- %o: octal.\n",
    "- %x: hexacimal.\n",
    "- %f: real.\n",
    "- %e: real exponencial.\n",
    "- %%: sinal de percentagem."
   ]
  },
  {
   "cell_type": "code",
   "execution_count": null,
   "metadata": {},
   "outputs": [],
   "source": [
    "# Zeros a esquerda\n",
    "print ('Agora são %02d:%02d.' % (16.000000, 30.0000000000000000000000000))\n",
    "\n",
    "# Real (número após o ponto controla as casas decimais)\n",
    "print ('Percentagem: %.1f%%, Exponencial:%.2e' % (5.333, 0.00314))\n",
    "\n",
    "# Octal e hexadecimal\n",
    "print ('Decimal: %d, Octal: %o, Hexadecimal: %x' % (10, 10, 10))"
   ]
  },
  {
   "cell_type": "markdown",
   "metadata": {},
   "source": [
    "Lembra do uso de versões diferentes de Python? Tem o Python 2 e o Python 3.\n",
    "\n",
    "A partir da versão 2.6, está disponível outra forma de interpolação além do operador %, o método de string e a função chamados format()."
   ]
  },
  {
   "cell_type": "code",
   "execution_count": null,
   "metadata": {},
   "outputs": [],
   "source": [
    "# Temos uma lista de informações, com 2 pessoas cadastradas, veja que existem dois conjuntos entre parenteses\n",
    "musicos = [('Page', 'guitarrista', 'Led Zeppelin'),\n",
    "('Fripp', 'guitarrista', 'King Crimson')]\n",
    "\n",
    "# Aqui criamos uma string genérica, mas observe, estamos dizendo a ela que pode ser que exista elementos a serem anexados.\n",
    "msg = '{0} é {1} do {2}'\n",
    "\n",
    "# Se imprimirmos a mensagem genérica, temos apenas texto\n",
    "print(msg)\n",
    "\n",
    "# Porém, podemos fazer mágica com isso\n",
    "for nome, funcao, banda in musicos:\n",
    "    print(\"\\n\",msg.format(nome, funcao, banda))\n",
    "\n",
    "print(\"\\n---- Outro exemplo ----\")\n",
    "# E não é que da pra melhorar a mágica?\n",
    "msg = '\\n{saudacao}, são {hora:02d}:{minuto:02d}'\n",
    "\n",
    "print (msg)\n",
    "print (msg.format(saudacao='Bom dia', hora=7, minuto=30))\n",
    "\n",
    "# Função builtin format(), permite que formatemos a string\n",
    "print ('\\nPi =', format(3.14159, '.4'))\n",
    "print ('\\nPi =', format(3.14159, '.3e'))"
   ]
  },
  {
   "cell_type": "markdown",
   "metadata": {},
   "source": [
    "Fatias (slices) de strings podem ser obtidas colocando índices entre colchetes após a string.\n",
    "\n",
    "![](http://nbviewer.jupyter.org/github/ricardoduarte/python-para-desenvolvedores/blob/master/Capitulo5/bpypd_diags4.png)"
   ]
  },
  {
   "cell_type": "code",
   "execution_count": null,
   "metadata": {},
   "outputs": [],
   "source": [
    "# Atividade\n",
    "# Vamos brincar com essas fatias?\n",
    "\n",
    "s = \"pucpcaldas\"\n",
    "\n",
    "# Utilize o print para mostrar a fatia correspondente a \"puc\", outro para \"p\", outro para \"caldas\"\n",
    "print(s[:3])\n",
    "# Agora é com você"
   ]
  },
  {
   "cell_type": "code",
   "execution_count": null,
   "metadata": {},
   "outputs": [],
   "source": [
    "# Desafio\n",
    "# Imprimir a string ao contrário\n",
    "\n",
    "s = \"pucpcaldas\"\n",
    "print()"
   ]
  },
  {
   "cell_type": "markdown",
   "metadata": {},
   "source": [
    "## Módulo String\n",
    "\n",
    "Várias funções para tratar com texto estão implementadas no módulo string."
   ]
  },
  {
   "cell_type": "code",
   "execution_count": null,
   "metadata": {},
   "outputs": [],
   "source": [
    "# importando o módulo string\n",
    "import string\n",
    "\n",
    "# O alfabeto\n",
    "a = string.ascii_letters\n",
    "\n",
    "print(a)"
   ]
  },
  {
   "cell_type": "code",
   "execution_count": null,
   "metadata": {},
   "outputs": [],
   "source": [
    "# Curiosidade: \n",
    "# Criptografia de César\n",
    "import string\n",
    "\n",
    "alfabeto = string.ascii_letters\n",
    "print(\"Temos o alfabeto:\", alfabeto)\n",
    "\n",
    "codigo = alfabeto[1:] + alfabeto[0]\n",
    "\n",
    "print(\"Temos nossa chave:\",codigo)\n",
    "\n",
    "# A função maketrans() cria uma tabela de tradução entre os caracteres das duas strings que ela recebeu como parâmetro.\n",
    "# Caso o caracter desejado não esteja na parte com a tradução, ele será apenas copiado.\n",
    "\n",
    "tab = str.maketrans(alfabeto, codigo)\n",
    "\n",
    "print(\"\\n\\n\")\n",
    "# Temos nossa mensagem\n",
    "\n",
    "msg = \"A aula ta legal\"\n",
    "\n",
    "print(\"Mensagem:\", msg)\n",
    "print(\"Cifrada fica:\",str.translate(msg, tab))"
   ]
  }
 ],
 "metadata": {
  "kernelspec": {
   "display_name": "Python 3",
   "language": "python",
   "name": "python3"
  },
  "language_info": {
   "codemirror_mode": {
    "name": "ipython",
    "version": 3
   },
   "file_extension": ".py",
   "mimetype": "text/x-python",
   "name": "python",
   "nbconvert_exporter": "python",
   "pygments_lexer": "ipython3",
   "version": "3.6.6"
  }
 },
 "nbformat": 4,
 "nbformat_minor": 2
}
