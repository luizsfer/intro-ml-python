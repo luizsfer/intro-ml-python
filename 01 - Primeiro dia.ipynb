{
 "cells": [
  {
   "cell_type": "markdown",
   "metadata": {},
   "source": [
    "# Introdução ao aprendizado de máquina utilizando Python"
   ]
  },
  {
   "cell_type": "markdown",
   "metadata": {},
   "source": [
    "#### Professor: Luiz Antonio de Sousa Ferreira"
   ]
  },
  {
   "cell_type": "markdown",
   "metadata": {},
   "source": [
    "#### Contato: luiz.ferreira@outlook.com | [@luizsferreira](http://instagram.com/luizsferreira) (IG)"
   ]
  },
  {
   "cell_type": "markdown",
   "metadata": {},
   "source": [
    "Acesso: [bit.ly/pucpcaldas](http://bit.ly/pucpcaldas)"
   ]
  },
  {
   "cell_type": "markdown",
   "metadata": {},
   "source": [
    "__________"
   ]
  },
  {
   "cell_type": "markdown",
   "metadata": {},
   "source": [
    "## O começo de tudo: Dados!\n",
    "\n",
    "Nosso mundo hoje é todo baseado em dados e a velocidade com que cresce é extremamente destacável, estimando que podem estar dobrando a cada dois anos e, com isso, mudando a maneira como vivemos. De acordo com a IBM, 2.5 bilhões de gigabytes (GB) de dados foram gerados todos os dias em 2012.\n",
    "\n",
    "Um artigo da Forbes afirma que a crescente está mais rápida do que nunca e até o ano de 2020, cerca de 1.7 megabytes de novas informações serão criadas a cada segundo para cada ser humano no planeta.\n",
    "\n",
    "O que torna extremamente importante, pelo menos, saber o básico do campo. Afinal, aqui é onde está o nosso futuro.\n",
    "\n",
    "Vamos diferenciar Data Science, Big Data e Data Analytics, com base no que é, onde é usado, as habilidades necessárias para se tornar um profissional no campo e as perspectivas salariais em cada campo."
   ]
  },
  {
   "cell_type": "markdown",
   "metadata": {},
   "source": [
    "### O que são?\n",
    "\n",
    "#### Data Science: \n",
    "Lidando com dados não estruturados e estruturados, o Data Science é um campo que compreende tudo o que está relacionado à limpeza, preparação e análise de dados. Data Science é a combinação de estatísticas, matemática, programação, solução de problemas, captura de dados de maneiras engenhosas, a capacidade de ver as coisas de maneira diferente e a atividade de limpeza, preparação e alinhamento dos dados.\n",
    "Em termos simples, é o guarda-chuva das técnicas usadas ao tentar extrair insights e informações dos dados.\n",
    "\n",
    " \n",
    "#### Big Data: \n",
    "Refere-se a enormes volumes de dados que não podem ser processados efetivamente com os aplicativos tradicionais existentes. O processamento de Big Data começa com os dados brutos que não são agregados e, na maioria das vezes, são impossíveis de armazenar na memória de um único computador.\n",
    "\n",
    "Um chavão que é usado para descrever imensos volumes de dados, não estruturados e estruturados, o termo Big Data inunda uma empresa no dia-a-dia. Big Data é algo que pode ser usado para analisar insights que podem levar a melhores decisões e movimentos estratégicos de negócios.\n",
    "\n",
    "A definição de Big Data, fornecida pelo Gartner, é: “Big Data é um grande volume de informações e ativos de informações de alta velocidade e/ou variedade que exigem formas inovadoras e econômicas de processamento de informações que permitem uma visão aprimorada, tomada de decisão, e automação de processos ”.\n",
    "\n",
    " \n",
    "#### Data Analytics: \n",
    "\n",
    "Data Analytics a ciência de examinar os dados brutos com o objectivo de tirar conclusões sobre essa informação. O Data Analytics envolve a aplicação de um processo algorítmico ou mecânico para obter insights. Por exemplo, percorrendo vários conjuntos de dados para procurar correlações significativas entre si.\n",
    "\n",
    "É usado em vários setores para permitir que as organizações e empresas tomem decisões melhores, além de verificar e refutar teorias ou modelos existentes. O foco da Análise de Dados está na inferência, que é o processo de obter conclusões baseadas exclusivamente no que o pesquisador já sabe."
   ]
  },
  {
   "cell_type": "markdown",
   "metadata": {},
   "source": [
    "_________"
   ]
  },
  {
   "cell_type": "markdown",
   "metadata": {},
   "source": [
    "### As aplicações de cada campo\n",
    "\n",
    "#### Aplicações de Data Science:\n",
    "\n",
    "- Pesquisa na Internet: os mecanismos de pesquisa usam algoritmos da ciência de dados para fornecer melhores resultados para consultas de pesquisa em uma fração de segundos.\n",
    "\n",
    "- Anúncios digitais: todo o espectro do marketing digital usa os algoritmos da ciência de dados - de banners de exibição a outdoors digitais. Esta é a razão média para os anúncios digitais aumentarem a CTR do que os anúncios tradicionais.\n",
    "\n",
    "- Sistemas de recomendação: Os sistemas de recomendação não apenas facilitam a localização de produtos relevantes a partir de bilhões de produtos disponíveis, mas também adicionam muito à experiência do usuário. Muitas empresas utilizam esse sistema para promover seus produtos e sugestões de acordo com as demandas do usuário e a relevância das informações. As recomendações são baseadas nos resultados de pesquisa anteriores do usuário.\n",
    "\n",
    "#### Aplicações de Big Data:\n",
    "\n",
    "- Big Data para serviços financeiros: empresas de cartão de crédito, bancos de varejo, assessorias de gestão de patrimônio privado, seguradoras, fundos de capital de risco e bancos de investimento institucionais usam big data para seus serviços financeiros. O problema comum entre todos eles é a grande quantidade de dados multiestruturados que residem em múltiplos sistemas diferentes e que podem ser resolvidos com big data. Assim, o big data é usado de várias maneiras, como: \n",
    "\n",
    "    - Análise do cliente\n",
    "    - Análise de conformidade\n",
    "    - Análise de Fraude\n",
    "    - Análise operacional\n",
    "    \n",
    "\n",
    "- Big Data nas comunicações: conquistar novos assinantes, reter clientes e expandir-se dentro das bases atuais de assinantes são as principais prioridades para os provedores de serviços de telecomunicações. As soluções para esses desafios residem na capacidade de combinar e analisar as massas de dados gerados pelo cliente e dados gerados por máquina que estão sendo criados todos os dias.\n",
    "\n",
    "- Big Data para o Varejo: Brick and Mortar ou um e-tailer online, a resposta para manter o jogo e ser competitivo é entender melhor o cliente para atendê-lo. Isso requer a capacidade de analisar todas as fontes de dados diferentes com as quais as empresas lidam diariamente, incluindo os weblogs, dados de transações do cliente, mídia social, dados de cartão de crédito da loja e dados do programa de fidelidade.\n",
    "\n",
    "#### Aplicações de Análise de Dados:\n",
    "\n",
    "- Assistência médica: O principal desafio para os hospitais com pressões de custo é o de tratar o maior número de pacientes possível, tendo em mente a melhoria da qualidade do atendimento. Os dados de instrumentos e máquinas estão sendo usados cada vez mais para rastrear e otimizar o fluxo, o tratamento e o equipamento dos pacientes usados nos hospitais. Estima-se que haverá um ganho de eficiência de 1% que poderá render mais de US$ 63 bilhões na economia global da saúde.\n",
    "\n",
    "- Viagens: A análise de dados é capaz de otimizar a experiência de compra por meio do mobile / weblog e da análise de dados de mídias sociais. Os locais de viagem podem obter insights sobre os desejos e preferências do cliente. Os produtos podem ser vendidos por meio da correlação das vendas atuais com a navegação subsequente, aumentando as conversões de pesquisa para compra por meio de pacotes e ofertas personalizadas. Recomendações de viagens personalizadas também podem ser fornecidas por análise de dados com base em dados de mídia social.\n",
    "\n",
    "- Jogos: o Data Analytics ajuda na coleta de dados para otimizar e gastar tanto dentro como fora dos jogos. As empresas de jogos ganham insights sobre os desgostos, os relacionamentos e os gostos dos usuários.\n",
    "\n",
    "- Gerenciamento de energia: A maioria das empresas está usando análise de dados para gerenciamento de energia, incluindo gerenciamento de rede inteligente, otimização de energia, distribuição de energia e automação predial em empresas de serviços públicos. A aplicação aqui é centrada no controle e monitoramento de dispositivos de rede, equipes de despacho e gerenciamento de falhas de serviço. As concessionárias têm a capacidade de integrar milhões de pontos de dados no desempenho da rede e permitem que os engenheiros usem as análises para monitorar a rede."
   ]
  },
  {
   "cell_type": "markdown",
   "metadata": {},
   "source": [
    "______\n"
   ]
  },
  {
   "cell_type": "markdown",
   "metadata": {},
   "source": [
    "### As habilidades que você precisa\n",
    "\n",
    "#### Para se tornar um cientista de dados:\n",
    "\n",
    "- Educação: 88% têm mestrado e 46% têm doutorado\n",
    "\n",
    "- Conhecimento aprofundado de SAS e / ou R: Para Data Science, R é geralmente preferido.\n",
    "\n",
    "- Codificação em Python: Python é a linguagem de codificação mais comum que é usada na ciência de dados junto com Java, Perl, C / C ++.\n",
    "\n",
    "- Plataforma Hadoop: Embora nem sempre seja um requisito, conhecer a plataforma Hadoop ainda é o preferido para o campo. Ter um pouco de experiência em Hive ou Pig também é um grande ponto de venda.\n",
    "\n",
    "- Banco de dados / codificação SQL: Embora o NoSQL e o Hadoop tenham se tornado uma parte importante do plano de fundo da Data Science, ainda é preferível se você pode gravar e executar consultas complexas no SQL.\n",
    "\n",
    "- Trabalhando com dados não estruturados: É muito importante que um Data Scientist possa trabalhar com dados não estruturados, seja em mídias sociais, feeds de vídeo ou áudio.\n",
    "\n",
    "#### Para se tornar um profissional de Big Data:\n",
    "\n",
    "- Habilidades analíticas: a capacidade de compreender as pilhas de dados que você obtém. Com habilidades analíticas, você será capaz de determinar quais dados são relevantes para sua solução, mais como solução de problemas.\n",
    "\n",
    "- Criatividade: você precisa ter a capacidade de criar novos métodos para coletar, interpretar e analisar uma estratégia de dados. Esta é uma habilidade extremamente adequada para possuir.\n",
    "\n",
    "- Matemática e habilidades estatísticas: Bom, antigo “processamento de números”. Isso é extremamente necessário, seja em ciência de dados, análise de dados ou big data.\n",
    "\n",
    "- Ciência da Computação: Computadores são os burros de carga por trás de toda estratégia de dados. Os programadores terão uma necessidade constante de criar algoritmos para processar dados em insights.\n",
    "\n",
    "- Habilidades de negócios: os profissionais de Big Data precisarão ter uma compreensão dos objetivos de negócios que estão em vigor, bem como dos processos subjacentes que impulsionam o crescimento do negócio, bem como seu lucro.\n",
    "\n",
    "#### Para se tornar um analista de dados:\n",
    "\n",
    "- Habilidades de programação: Sabendo que as linguagens de programação são R e Python são extremamente importantes para qualquer analista de dados.\n",
    "\n",
    "- Habilidades estatísticas e matemática: Estatísticas descritivas e inferenciais e projetos experimentais são essenciais para os cientistas de dados.\n",
    "\n",
    "- Habilidades de aprendizado de máquina\n",
    "\n",
    "- Competências de manipulação de dados: a capacidade de mapear dados brutos e convertê-los em outro formato que permita um consumo mais conveniente dos dados.\n",
    "\n",
    "- Habilidades de comunicação e visualização de dados\n",
    "\n",
    "- Intuição de Dados: é extremamente importante que o profissional possa pensar como um analista de dados.\n",
    "\n",
    "### Agora vamos falar sobre salários!\n",
    "\n",
    "Embora no mesmo domínio, cada um desses profissionais, cientistas de dados, especialistas em Big Data e analistas de dados, ganham salários variados.\n",
    "\n",
    "- A média que um cientista de dados ganha hoje, de acordo com a Indeed.com, é de US$ 123.000 por ano. De acordo com Glassdoor , o salário médio de um cientista de dados é de 113.436 dólares por ano.\n",
    "\n",
    "- O salário médio de um especialista em Big Data, de acordo com a Glassdoor, é de US$ 62.066 por ano.\n",
    "\n",
    "- O salário médio de um analista de dados de acordo com a Glassdoor é de US$ 60.476 por ano.\n",
    "\n",
    "Agora que você conhece as diferenças, qual você acha que é mais adequado para você - Data Science? Big Data? Ou análise de dados?"
   ]
  },
  {
   "cell_type": "markdown",
   "metadata": {},
   "source": [
    "_____"
   ]
  },
  {
   "cell_type": "markdown",
   "metadata": {},
   "source": [
    "## Um pouco mais sobre Data Science\n",
    "\n",
    "Recentemente (agosto de 2016),  [Ajit Jaokar](https://www.theinternetofthings.eu/ajit-jaokar) falou sobre o cientista de dados Tipo A (Analytics) versus Tipo B (Builder): \n",
    "\n",
    "#### O cientista de dados tipo A \n",
    "Pode codificar bem o suficiente para trabalhar com dados, mas não é necessariamente um especialista. O cientista de dados Tipo A pode ser um especialista em design experimental, previsão, modelagem, inferência estatística ou outras coisas normalmente ensinadas nos departamentos de estatística. No geral, porém, o produto de trabalho de um cientista de dados não é \"p-valores e intervalos de confiança\", como as estatísticas acadêmicas às vezes parecem sugerir (e às vezes é para estatísticos tradicionais que trabalham na indústria farmacêutica, por exemplo). No Google, os Cientistas de Dados Tipo A são conhecidos como estatístico, analista quantitativo, analista de engenharia de suporte à decisão ou cientista de dados, e provavelmente mais alguns.\n",
    "\n",
    "#### Cientista de Dados Tipo B: \n",
    "O B vem de Builder. Os cientistas de dados do tipo B compartilham algum conhecimento estatístico com o Tipo A, mas também são codificadores muito fortes e podem ser engenheiros de software treinados. O Cientista de Dados Tipo B está interessado principalmente em usar dados \"em produção\". Eles criam modelos que interagem com os usuários, muitas vezes servindo recomendações (produtos, pessoas que você conhece, anúncios, filmes, resultados de pesquisa). \n",
    "\n",
    "Fonte: [clique aqui](https://www.kdnuggets.com/2016/08/become-type-a-data-scientist.html).\n",
    "\n",
    "Podemos seguir o diagrama de Venn (bem famoso nessa área) que afirma: \"Data Science é uma interseção de Habilidades de hacker, Conhecimento de estatística e matemática e Competência significativa\":\n",
    "\n",
    "![](https://camo.githubusercontent.com/e22f004babd0790ac763abcbfbb1f3b901bc83ad/68747470733a2f2f737461746963312e73717561726573706163652e636f6d2f7374617469632f3531353061656336653462306533343065633532373130612f742f3531353235633333653462306233653064313066373761622f313336343335323035323430332f446174615f536369656e63655f56442e706e67)"
   ]
  },
  {
   "cell_type": "markdown",
   "metadata": {},
   "source": [
    "_____"
   ]
  },
  {
   "cell_type": "markdown",
   "metadata": {},
   "source": [
    "## Machine Learning vs. Deep Learning\n",
    "\n",
    "Antes de nos aprofundarmos no elo entre data science e machine learning, vamos discutir brevemente sua diferença com o deep learning. \n",
    "\n",
    "Machine Learning é um conjunto de algoritmos que treinam um conjunto de dados para fazer previsões ou realizar ações para otimizar alguns sistemas. Por exemplo, algoritmos de classificação supervisionada são usados para classificar potenciais clientes em boas ou más perspectivas, para fins de empréstimo, com base em dados históricos. As técnicas envolvidas, para uma dada tarefa (por exemplo, clustering supervisionado), são variadas: naive bayes, SVM, redes neurais, conjuntos, regras de associação, árvores de decisão, regressão logística ou uma combinação de muitas. Para uma lista detalhada de algoritmos, [clique aqui](https://www.datasciencecentral.com/profiles/blogs/top-20-uses-of-statistical-modeling). Para obter uma lista de problemas de aprendizado de máquina, [clique aqui](https://www.datasciencecentral.com/profiles/blogs/top-10-machine-learning-algorithms).\n",
    "\n",
    "Tudo isso é um subconjunto da ciência de dados. Quando esses algoritmos são automatizados, como em pilotos automatizados ou em carros sem motorista, ele é chamado AI e, mais especificamente, deep learning. Se os dados coletados vierem de sensores e se forem transmitidos pela Internet, isso significa aprendizado de máquina ou ciência de dados ou deep learning aplicado à IoT.\n",
    "\n",
    "Algumas pessoas têm uma definição diferente para deep learning. Eles consideram como redes neurais (uma técnica de machine learning) com uma camada mais profunda. A pergunta foi feita no Quora recentemente, e abaixo está uma explicação mais detalhada (fonte: Quora )\n",
    "\n",
    "- AI ( inteligência artificial ) é um subcampo da ciência da computação, que foi criado na década de 1960, e estava preocupado com a resolução de tarefas que são fáceis para os seres humanos, mas difícil para os computadores. Em particular, a chamada Strong AI  seria um sistema que pode fazer qualquer coisa que um humano possa (talvez sem coisas puramente físicas). Isso é bastante genérico e inclui todos os tipos de tarefas, como planejamento, movimentação no mundo, reconhecimento de objetos e sons, conversação, tradução, realização de transações sociais ou comerciais, trabalho criativo (arte ou poesia), etc.\n",
    "\n",
    "- PNL ( processamento de linguagem natural ) é simplesmente a parte da IA que tem a ver com a linguagem (geralmente escrita).\n",
    "\n",
    "- Machine learning está preocupado com um aspecto disso: dado algum problema de IA que pode ser descrito em termos discretos (por exemplo, de um conjunto particular de ações, qual é o correto?) e dada muita informação sobre o mundo, escolher qual é a ação “correta”, sem que o programador a programe. Tipicamente, algum processo externo é necessário para julgar se a ação estava correta ou não. Em termos matemáticos, é uma função: você insere alguma entrada, e quer que ela produza a saída correta, então todo o problema é simplesmente construir um modelo dessa função matemática de alguma maneira automática. Para fazer uma distinção com AI, se eu puder escrever um programa muito inteligente que tenha comportamento humano, pode ser AI, mas a menos que seus parâmetros sejam aprendidos automaticamente a partir de dados, não é aprendizado de máquina.\n",
    "\n",
    "- Deep learning é um tipo de machine learning muito popular atualmente. Envolve um tipo particular de modelo matemático que pode ser pensado como uma composição de blocos simples (composição de funções) de um certo tipo, e onde alguns desses blocos podem ser ajustados para prever melhor o resultado final."
   ]
  },
  {
   "cell_type": "markdown",
   "metadata": {},
   "source": [
    "____"
   ]
  },
  {
   "cell_type": "markdown",
   "metadata": {},
   "source": [
    "## Data science vs. Machine learning\n",
    "\n",
    "Machine learning e estatística fazem parte de Data Science. O aprendizado de palavras em machine learing significa que os algoritmos dependem de alguns dados, usados como um conjunto de treinamento, para ajustar alguns parâmetros de modelo ou algoritmo. Isso engloba muitas técnicas, como regressão, naive bayes ou clustering supervisionado. Mas nem todas as técnicas se encaixam nessa categoria. Por exemplo, o clustering não supervisionado - uma técnica estatística e de ciência de dados - visa detectar clusters e estruturas de cluster sem qualquer conhecimento a priori ou conjunto de treinamento para ajudar o algoritmo de classificação. Um ser humano é necessário para rotular os clusters encontrados. Algumas técnicas são híbridas, como a classificação semi-supervisionada. Algumas técnicas de detecção de padrões ou de estimativa de densidade se encaixam nessa categoria.\n",
    "\n",
    "Data science é muito mais do que aprendizado de máquina. Os dados, na ciência de dados, podem ou não vir de uma máquina ou processo mecânico (os dados de pesquisa podem ser coletados manualmente, os ensaios clínicos envolvem um tipo específico de dados pequenos) e podem não ter nada a ver com o aprendizado. Mas a principal diferença é o fato de que a ciência de dados cobre todo o espectro do processamento de dados, não apenas os aspectos algorítmicos ou estatísticos. Em particular, a ciência de dados abrange também:\n",
    "\n",
    "- integração de dados\n",
    "- arquitetura distribuída\n",
    "- automatização de machine learning\n",
    "- visualização de dados\n",
    "- painéis e BI\n",
    "- engenharia de dados\n",
    "- implantação no modo de produção\n",
    "- decisões automatizadas e baseadas em dados"
   ]
  },
  {
   "cell_type": "markdown",
   "metadata": {},
   "source": [
    "_____"
   ]
  },
  {
   "cell_type": "markdown",
   "metadata": {},
   "source": [
    "## Você sabia:\n",
    "\n",
    "O Facebook pede que você coloque os dados de cidade natal e atual, supostamente para facilitar o relacionamento entre conhecidos. Porém, esses dados servem, também, para analisar padrões de [migração global](http://on.fb.me/1EQTq3A) ou para saber onde vivem os [fã-clubes dos times de futebol americano](http://on.fb.me/1EQTvnO).\n",
    "\n",
    "A empresa Target (grande entregadora global) rastreia suas encomendas e interações (online ou física), utiliza de modelos preditivos para saber quais clientes estão grávidas a fim de melhorar sua oferta de [artigos relacionados a bebês](http://nyti.ms/1EQTvnO)."
   ]
  },
  {
   "cell_type": "markdown",
   "metadata": {},
   "source": [
    "____"
   ]
  },
  {
   "cell_type": "markdown",
   "metadata": {},
   "source": [
    "## Um novo caso: O AmazonGO\n",
    "\n",
    "Inaugurado em 5 de dezembro de 2016, para testes, funcionando exclusivamente para funcionários de Seattle, o mercado foi aberto ao público em janeiro de 2018.\n",
    "\n",
    "A idéia é utilizar tecnologia para construção de um mercado sem caixa, com reposição inteligente de estoque e sem dinheiro físico. Podemos conferir a idéia em uma publicação do [TecMundo](https://tecnoblog.net/204424/amazon-go-supermercado-sem-caixa/). Já temos disponível no Youtube uma série de relatos de pessoas que utilizaram desse mercado (curiosos ou não) para entender quais os desenhos que o mercado propõe para o futuro (nem tão longe assim), como por exemplo esse [vídeo](https://www.youtube.com/watch?v=k6NJhCr0Fjs). ([Nesse link](https://www.youtube.com/watch?v=qDynWg0sh5I) temos uma versão com legendas do vídeo de divulgação da AmazonGo)\n",
    "\n",
    "Aqui temos um [vídeo](https://www.youtube.com/watch?v=d9kj45Of4jw), muito mal produzido, porém com algumas explicações sobre os sensores utilizados nesse novo mercado, já esse [segundo vídeo](https://www.youtube.com/watch?v=0R72EoYccw8) (melhor produzido) também traz algumas explicações."
   ]
  },
  {
   "cell_type": "markdown",
   "metadata": {},
   "source": [
    "___"
   ]
  },
  {
   "cell_type": "markdown",
   "metadata": {},
   "source": [
    "## Carros autônomos\n",
    "\n",
    "Implicâncias a parte, temos certeza de que o meio com que nos locomovemos sofrerá modificações em breve, dentro desse cenário um modelo de veículo que desponta dos demais são os carros autônomos.\n",
    "\n",
    "Como a análise de dados entra nesse contexto? Vamos utilizar desse questionário feito pelo MIT? http://moralmachine.mit.edu/hl/pt\n",
    "\n",
    "Entendendo a tecnologia: https://www.youtube.com/watch?v=LMuOve_ylBw\n",
    "\n",
    "Mas e na prática, como ocorre? https://www.youtube.com/watch?v=cf3tBau03oY\n",
    "\n",
    "No Brasil temos exemplos de tecnologia: Criado pela UFES - https://www.youtube.com/watch?v=t7D0GQJWYPQ\n",
    "\n",
    "Mas porque isso é uma tecnologia tão interessante e que está recebendo tanto investimento?\n",
    "\n",
    "Talvez por isso?\n",
    "\n",
    "![](https://camo.githubusercontent.com/305e8af6154aae8055a926bc63ed0a3dcc73dc28/68747470733a2f2f696d672e6573746164616f2e636f6d2e62722f7265736f75726365732f6a70672f392f352f313435383631313635393235392e6a7067)\n",
    "\n",
    "![](https://camo.githubusercontent.com/f90b4e080ff06bba019ebf2a5f42f241d1ee3c9d/68747470733a2f2f67726973742e66696c65732e776f726470726573732e636f6d2f323031362f31312f6e65772d796f726b2d74726166666963312e6a70673f773d3130323426683d3537362663726f703d31)\n",
    "\n",
    "Quanto custa um congestionamento? “A secretaria trabalha com um plano integrado de transporte urbano, com uma visão até 2030. E prevê esses avanços: no mínimo, mais 100 km de metrô, mais 100 km de CPTM. Nós já devíamos ter isso implantado na década de 50, de 60. E pagamos muito caro por isso. O congestionamento custa muito caro. Fizemos um estudo em 1998, junto com o Ipea. O custo do congestionamento na cidade de São Paulo é de 6 a 8 bilhões de reais – só na cidade de São Paulo. Então, isso é o que estamos pagando ao longo de décadas. Se você fizer uma conta, teria dado tempo para fazer os projetos que queríamos, construindo exatamente a rede que vamos ter em 10 ou 15 anos”. [Fonte: Câmara dos Deputados, 2015](http://www2.camara.leg.br/camaranoticias/radio/materias/REPORTAGEM-ESPECIAL/487620-DESAFIOS-DA-MOBILIDADE-QUANTO-CUSTA-UM-CONGESTIONAMENTO-BLOCO-2.html)\n",
    "\n",
    "Solução? - Que tal essa? https://www.youtube.com/watch?v=iHzzSao6ypE"
   ]
  },
  {
   "cell_type": "markdown",
   "metadata": {},
   "source": [
    "____"
   ]
  },
  {
   "cell_type": "markdown",
   "metadata": {},
   "source": [
    "Fontes: \n",
    "\n",
    "GRANVILLE, V. Difference between Machine Learning, Data Science, AI, Deep Learning, and Statistics. Data Science Central. Disponível em: www.datasciencecentral.com/profiles/blogs/difference-between-machine-learning-data-science-ai-deep-learning. Acesso em: 10/2018\n",
    "\n",
    "MONNAPPA, A. Science vs. Big Data vs. Data Analytics. SimpliLearn. Disponível em: www.simplilearn.com/data-science-vs-big-data-vs-data-analytics-article. Acesso em: 10/2018"
   ]
  }
 ],
 "metadata": {
  "kernelspec": {
   "display_name": "Python 3",
   "language": "python",
   "name": "python3"
  },
  "language_info": {
   "codemirror_mode": {
    "name": "ipython",
    "version": 3
   },
   "file_extension": ".py",
   "mimetype": "text/x-python",
   "name": "python",
   "nbconvert_exporter": "python",
   "pygments_lexer": "ipython3",
   "version": "3.6.6"
  }
 },
 "nbformat": 4,
 "nbformat_minor": 2
}
